{
 "cells": [
  {
   "cell_type": "markdown",
   "metadata": {},
   "source": [
    "# Control Flow"
   ]
  },
  {
   "cell_type": "markdown",
   "metadata": {},
   "source": [
    "**Basic If-Else Statements:**"
   ]
  },
  {
   "cell_type": "markdown",
   "metadata": {},
   "source": [
    "1. Write a Python program to check if a given number is positive or negative."
   ]
  },
  {
   "cell_type": "code",
   "execution_count": 1,
   "metadata": {},
   "outputs": [
    {
     "name": "stdout",
     "output_type": "stream",
     "text": [
      "The number is positive.\n"
     ]
    }
   ],
   "source": [
    "num = float(input(\"Enter a number: \"))\n",
    "if num > 0:\n",
    "    print(\"The number is positive.\")\n",
    "elif num < 0:\n",
    "    print(\"The number is negative.\")\n",
    "else:\n",
    "    print(\"The number is zero.\")\n"
   ]
  },
  {
   "cell_type": "markdown",
   "metadata": {},
   "source": [
    "2. Create a program that determines if a person is eligible to vote based on their age."
   ]
  },
  {
   "cell_type": "code",
   "execution_count": 2,
   "metadata": {},
   "outputs": [
    {
     "name": "stdout",
     "output_type": "stream",
     "text": [
      "You are eligible to vote.\n"
     ]
    }
   ],
   "source": [
    "age = int(input(\"Enter your age: \"))\n",
    "if age >= 18:\n",
    "    print(\"You are eligible to vote.\")\n",
    "else:\n",
    "    print(\"You are not eligible to vote.\")\n"
   ]
  },
  {
   "cell_type": "markdown",
   "metadata": {},
   "source": [
    "3. Develop a program to find the maximum of two numbers using if-else statements."
   ]
  },
  {
   "cell_type": "code",
   "execution_count": 3,
   "metadata": {},
   "outputs": [
    {
     "name": "stdout",
     "output_type": "stream",
     "text": [
      "The maximum number is 6.0.\n"
     ]
    }
   ],
   "source": [
    "num1 = float(input(\"Enter first number: \"))\n",
    "num2 = float(input(\"Enter second number: \"))\n",
    "if num1 > num2:\n",
    "    print(f\"The maximum number is {num1}.\")\n",
    "else:\n",
    "    print(f\"The maximum number is {num2}.\")\n"
   ]
  },
  {
   "cell_type": "markdown",
   "metadata": {},
   "source": [
    "4. Write a Python script to classify a given year as a leap year or not."
   ]
  },
  {
   "cell_type": "code",
   "execution_count": 4,
   "metadata": {},
   "outputs": [
    {
     "name": "stdout",
     "output_type": "stream",
     "text": [
      "2025 is not a leap year.\n"
     ]
    }
   ],
   "source": [
    "year = int(input(\"Enter a year: \"))\n",
    "if (year % 4 == 0 and year % 100 != 0) or (year % 400 == 0):\n",
    "    print(f\"{year} is a leap year.\")\n",
    "else:\n",
    "    print(f\"{year} is not a leap year.\")\n"
   ]
  },
  {
   "cell_type": "markdown",
   "metadata": {},
   "source": [
    "5. Create a program that checks whether a character is a vowel or a consonant."
   ]
  },
  {
   "cell_type": "code",
   "execution_count": 5,
   "metadata": {},
   "outputs": [
    {
     "name": "stdout",
     "output_type": "stream",
     "text": [
      "k is a consonant.\n"
     ]
    }
   ],
   "source": [
    "char = input(\"Enter a character: \").lower()\n",
    "if char in 'aeiou':\n",
    "    print(f\"{char} is a vowel.\")\n",
    "else:\n",
    "    print(f\"{char} is a consonant.\")\n"
   ]
  },
  {
   "cell_type": "markdown",
   "metadata": {},
   "source": [
    "6. Implement a program to determine whether a given number is even or odd."
   ]
  },
  {
   "cell_type": "code",
   "execution_count": 6,
   "metadata": {},
   "outputs": [
    {
     "name": "stdout",
     "output_type": "stream",
     "text": [
      "85 is odd.\n"
     ]
    }
   ],
   "source": [
    "num = int(input(\"Enter a number: \"))\n",
    "if num % 2 == 0:\n",
    "    print(f\"{num} is even.\")\n",
    "else:\n",
    "    print(f\"{num} is odd.\")\n"
   ]
  },
  {
   "cell_type": "markdown",
   "metadata": {},
   "source": [
    "7. Write a Python function to calculate the absolute value of a number without using the `abs()` function."
   ]
  },
  {
   "cell_type": "code",
   "execution_count": 7,
   "metadata": {},
   "outputs": [
    {
     "name": "stdout",
     "output_type": "stream",
     "text": [
      "The absolute value is 64.0.\n"
     ]
    }
   ],
   "source": [
    "def absolute_value(num):\n",
    "    if num < 0:\n",
    "        return -num\n",
    "    return num\n",
    "\n",
    "num = float(input(\"Enter a number: \"))\n",
    "print(f\"The absolute value is {absolute_value(num)}.\")\n"
   ]
  },
  {
   "cell_type": "markdown",
   "metadata": {},
   "source": [
    "8. Develop a program that determines the largest of three given numbers using if-else statements."
   ]
  },
  {
   "cell_type": "code",
   "execution_count": 8,
   "metadata": {},
   "outputs": [
    {
     "name": "stdout",
     "output_type": "stream",
     "text": [
      "The largest number is 45.36.\n"
     ]
    }
   ],
   "source": [
    "num1 = float(input(\"Enter first number: \"))\n",
    "num2 = float(input(\"Enter second number: \"))\n",
    "num3 = float(input(\"Enter third number: \"))\n",
    "if num1 >= num2 and num1 >= num3:\n",
    "    print(f\"The largest number is {num1}.\")\n",
    "elif num2 >= num1 and num2 >= num3:\n",
    "    print(f\"The largest number is {num2}.\")\n",
    "else:\n",
    "    print(f\"The largest number is {num3}.\")\n"
   ]
  },
  {
   "cell_type": "markdown",
   "metadata": {},
   "source": [
    "9. Create a program that checks if a given string is a palindrome."
   ]
  },
  {
   "cell_type": "code",
   "execution_count": 9,
   "metadata": {},
   "outputs": [
    {
     "name": "stdout",
     "output_type": "stream",
     "text": [
      "The string is not a palindrome.\n"
     ]
    }
   ],
   "source": [
    "string = input(\"Enter a string: \").lower()\n",
    "if string == string[::-1]:\n",
    "    print(\"The string is a palindrome.\")\n",
    "else:\n",
    "    print(\"The string is not a palindrome.\")\n"
   ]
  },
  {
   "cell_type": "markdown",
   "metadata": {},
   "source": [
    "10. Write a Python program to calculate the grade based on a student's score."
   ]
  },
  {
   "cell_type": "code",
   "execution_count": 10,
   "metadata": {},
   "outputs": [
    {
     "name": "stdout",
     "output_type": "stream",
     "text": [
      "Grade B\n"
     ]
    }
   ],
   "source": [
    "score = int(input(\"Enter your score: \"))\n",
    "if score >= 90:\n",
    "    print(\"Grade A\")\n",
    "elif score >= 80:\n",
    "    print(\"Grade B\")\n",
    "elif score >= 70:\n",
    "    print(\"Grade C\")\n",
    "elif score >= 60:\n",
    "    print(\"Grade D\")\n",
    "else:\n",
    "    print(\"Grade F\")\n"
   ]
  },
  {
   "cell_type": "markdown",
   "metadata": {},
   "source": [
    "**Nested If-Else Statements:**"
   ]
  },
  {
   "cell_type": "markdown",
   "metadata": {},
   "source": [
    "11. Write a program to find the largest among three numbers using nested if-else statements."
   ]
  },
  {
   "cell_type": "code",
   "execution_count": 11,
   "metadata": {},
   "outputs": [
    {
     "name": "stdout",
     "output_type": "stream",
     "text": [
      "The largest number is 56456.5645.\n"
     ]
    }
   ],
   "source": [
    "num1 = float(input(\"Enter first number: \"))\n",
    "num2 = float(input(\"Enter second number: \"))\n",
    "num3 = float(input(\"Enter third number: \"))\n",
    "if num1 >= num2:\n",
    "    if num1 >= num3:\n",
    "        print(f\"The largest number is {num1}.\")\n",
    "    else:\n",
    "        print(f\"The largest number is {num3}.\")\n",
    "else:\n",
    "    if num2 >= num3:\n",
    "        print(f\"The largest number is {num2}.\")\n",
    "    else:\n",
    "        print(f\"The largest number is {num3}.\")\n"
   ]
  },
  {
   "cell_type": "markdown",
   "metadata": {},
   "source": [
    "12. Implement a program to determine if a triangle is equilateral, isosceles, or scalene.\n"
   ]
  },
  {
   "cell_type": "code",
   "execution_count": 12,
   "metadata": {},
   "outputs": [
    {
     "name": "stdout",
     "output_type": "stream",
     "text": [
      "The triangle is scalene.\n"
     ]
    }
   ],
   "source": [
    "a = float(input(\"Enter side 1: \"))\n",
    "b = float(input(\"Enter side 2: \"))\n",
    "c = float(input(\"Enter side 3: \"))\n",
    "if a == b and b == c:\n",
    "    print(\"The triangle is equilateral.\")\n",
    "elif a == b or b == c or a == c:\n",
    "    print(\"The triangle is isosceles.\")\n",
    "else:\n",
    "    print(\"The triangle is scalene.\")\n"
   ]
  },
  {
   "cell_type": "markdown",
   "metadata": {},
   "source": [
    "13. Develop a program that checks if a year is a leap year and also if it is a century year.\n"
   ]
  },
  {
   "cell_type": "code",
   "execution_count": 13,
   "metadata": {},
   "outputs": [
    {
     "name": "stdout",
     "output_type": "stream",
     "text": [
      "2058 is not a leap year.\n"
     ]
    }
   ],
   "source": [
    "year = int(input(\"Enter a year: \"))\n",
    "if (year % 4 == 0 and year % 100 != 0) or (year % 400 == 0):\n",
    "    if year % 100 == 0:\n",
    "        print(f\"{year} is a leap century year.\")\n",
    "    else:\n",
    "        print(f\"{year} is a leap year.\")\n",
    "else:\n",
    "    print(f\"{year} is not a leap year.\")\n"
   ]
  },
  {
   "cell_type": "markdown",
   "metadata": {},
   "source": [
    "14. Write a Python script to determine if a number is positive, negative, or zero.\n"
   ]
  },
  {
   "cell_type": "code",
   "execution_count": 14,
   "metadata": {},
   "outputs": [
    {
     "name": "stdout",
     "output_type": "stream",
     "text": [
      "The number is positive.\n"
     ]
    }
   ],
   "source": [
    "num = float(input(\"Enter a number: \"))\n",
    "if num > 0:\n",
    "    print(\"The number is positive.\")\n",
    "elif num < 0:\n",
    "    print(\"The number is negative.\")\n",
    "else:\n",
    "    print(\"The number is zero.\")\n"
   ]
  },
  {
   "cell_type": "markdown",
   "metadata": {},
   "source": [
    "15. Create a program to check if a person is a teenager (between 13 and 19 years old).\n"
   ]
  },
  {
   "cell_type": "code",
   "execution_count": 15,
   "metadata": {},
   "outputs": [
    {
     "name": "stdout",
     "output_type": "stream",
     "text": [
      "You are not a teenager.\n"
     ]
    }
   ],
   "source": [
    "age = int(input(\"Enter your age: \"))\n",
    "if 13 <= age <= 19:\n",
    "    print(\"You are a teenager.\")\n",
    "else:\n",
    "    print(\"You are not a teenager.\")\n"
   ]
  },
  {
   "cell_type": "markdown",
   "metadata": {},
   "source": [
    "16. Develop a program that determines the type of angle based on its measure (acute, obtuse, or right).\n"
   ]
  },
  {
   "cell_type": "code",
   "execution_count": 16,
   "metadata": {},
   "outputs": [
    {
     "name": "stdout",
     "output_type": "stream",
     "text": [
      "The angle is acute.\n"
     ]
    }
   ],
   "source": [
    "angle = float(input(\"Enter the angle measure: \"))\n",
    "if angle < 90:\n",
    "    print(\"The angle is acute.\")\n",
    "elif angle == 90:\n",
    "    print(\"The angle is right.\")\n",
    "else:\n",
    "    print(\"The angle is obtuse.\")\n"
   ]
  },
  {
   "cell_type": "markdown",
   "metadata": {},
   "source": [
    "17. Write a Python program to calculate the roots of a quadratic equation.\n"
   ]
  },
  {
   "cell_type": "code",
   "execution_count": 17,
   "metadata": {},
   "outputs": [
    {
     "name": "stdout",
     "output_type": "stream",
     "text": [
      "No real roots.\n"
     ]
    }
   ],
   "source": [
    "import math\n",
    "\n",
    "a = float(input(\"Enter coefficient a: \"))\n",
    "b = float(input(\"Enter coefficient b: \"))\n",
    "c = float(input(\"Enter coefficient c: \"))\n",
    "\n",
    "discriminant = b**2 - 4*a*c\n",
    "if discriminant > 0:\n",
    "    root1 = (-b + math.sqrt(discriminant)) / (2*a)\n",
    "    root2 = (-b - math.sqrt(discriminant)) / (2*a)\n",
    "    print(f\"The roots are {root1} and {root2}.\")\n",
    "elif discriminant == 0:\n",
    "    root = -b / (2*a)\n",
    "    print(f\"The root is {root}.\")\n",
    "else:\n",
    "    print(\"No real roots.\")\n"
   ]
  },
  {
   "cell_type": "markdown",
   "metadata": {},
   "source": [
    "18. Implement a program to determine the day of the week based on a user-provided number (1 for Monday, 2\n",
    "for Tuesday, etc.).\n"
   ]
  },
  {
   "cell_type": "code",
   "execution_count": 18,
   "metadata": {},
   "outputs": [
    {
     "name": "stdout",
     "output_type": "stream",
     "text": [
      "Wednesday\n"
     ]
    }
   ],
   "source": [
    "day = int(input(\"Enter a number (1 for Monday, 2 for Tuesday, etc.): \"))\n",
    "if day == 1:\n",
    "    print(\"Monday\")\n",
    "elif day == 2:\n",
    "    print(\"Tuesday\")\n",
    "elif day == 3:\n",
    "    print(\"Wednesday\")\n",
    "elif day == 4:\n",
    "    print(\"Thursday\")\n",
    "elif day == 5:\n",
    "    print(\"Friday\")\n",
    "elif day == 6:\n",
    "    print(\"Saturday\")\n",
    "elif day == 7:\n",
    "    print(\"Sunday\")\n",
    "else:\n",
    "    print(\"Invalid input.\")\n"
   ]
  },
  {
   "cell_type": "markdown",
   "metadata": {},
   "source": [
    "19. Create a program that determines if a year is a leap year and also if it is evenly divisible by 400.\n"
   ]
  },
  {
   "cell_type": "code",
   "execution_count": 19,
   "metadata": {},
   "outputs": [
    {
     "name": "stdout",
     "output_type": "stream",
     "text": [
      "2099 is not a leap year.\n"
     ]
    }
   ],
   "source": [
    "year = int(input(\"Enter a year: \"))\n",
    "if (year % 4 == 0 and year % 100 != 0) or (year % 400 == 0):\n",
    "    if year % 400 == 0:\n",
    "        print(f\"{year} is a leap year and divisible by 400.\")\n",
    "    else:\n",
    "        print(f\"{year} is a leap year but not divisible by 400.\")\n",
    "else:\n",
    "    print(f\"{year} is not a leap year.\")\n"
   ]
  },
  {
   "cell_type": "markdown",
   "metadata": {},
   "source": [
    "20. Develop a program that checks if a given number is prime or not using nested if-else statements."
   ]
  },
  {
   "cell_type": "code",
   "execution_count": 20,
   "metadata": {},
   "outputs": [
    {
     "name": "stdout",
     "output_type": "stream",
     "text": [
      "54 is not a prime number.\n"
     ]
    }
   ],
   "source": [
    "num = int(input(\"Enter a number: \"))\n",
    "if num > 1:\n",
    "    for i in range(2, num):\n",
    "        if num % i == 0:\n",
    "            print(f\"{num} is not a prime number.\")\n",
    "            break\n",
    "    else:\n",
    "        print(f\"{num} is a prime number.\")\n",
    "else:\n",
    "    print(f\"{num} is not a prime number.\")\n"
   ]
  },
  {
   "cell_type": "markdown",
   "metadata": {},
   "source": [
    "**Elif Statements:**"
   ]
  },
  {
   "cell_type": "markdown",
   "metadata": {},
   "source": [
    "21. Write a Python program to assign grades based on different ranges of scores using elif statements.\n"
   ]
  },
  {
   "cell_type": "code",
   "execution_count": 21,
   "metadata": {},
   "outputs": [
    {
     "name": "stdout",
     "output_type": "stream",
     "text": [
      "Grade A\n"
     ]
    }
   ],
   "source": [
    "score = int(input(\"Enter your score: \"))\n",
    "if score >= 90:\n",
    "    print(\"Grade A\")\n",
    "elif score >= 80:\n",
    "    print(\"Grade B\")\n",
    "elif score >= 70:\n",
    "    print(\"Grade C\")\n",
    "elif score >= 60:\n",
    "    print(\"Grade D\")\n",
    "else:\n",
    "    print(\"Grade F\")\n"
   ]
  },
  {
   "cell_type": "markdown",
   "metadata": {},
   "source": [
    "22. Implement a program to determine the type of a triangle based on its angles.\n"
   ]
  },
  {
   "cell_type": "code",
   "execution_count": 22,
   "metadata": {},
   "outputs": [
    {
     "name": "stdout",
     "output_type": "stream",
     "text": [
      "The triangle is an acute triangle.\n"
     ]
    }
   ],
   "source": [
    "angle1 = int(input(\"Enter first angle: \"))\n",
    "angle2 = int(input(\"Enter second angle: \"))\n",
    "angle3 = int(input(\"Enter third angle: \"))\n",
    "if angle1 == 90 or angle2 == 90 or angle3 == 90:\n",
    "    print(\"The triangle is a right triangle.\")\n",
    "elif angle1 > 90 or angle2 > 90 or angle3 > 90:\n",
    "    print(\"The triangle is an obtuse triangle.\")\n",
    "else:\n",
    "    print(\"The triangle is an acute triangle.\")\n"
   ]
  },
  {
   "cell_type": "markdown",
   "metadata": {},
   "source": [
    "23. Develop a program to categorize a given person's BMI into underweight, normal, overweight, or obese using\n",
    "elif statements.\n"
   ]
  },
  {
   "cell_type": "code",
   "execution_count": 23,
   "metadata": {},
   "outputs": [
    {
     "name": "stdout",
     "output_type": "stream",
     "text": [
      "Your BMI is obese.\n"
     ]
    }
   ],
   "source": [
    "weight = float(input(\"Enter your weight in kg: \"))\n",
    "height = float(input(\"Enter your height in meters: \"))\n",
    "bmi = weight / (height ** 2)\n",
    "if bmi < 18.5:\n",
    "    print(\"Your BMI is underweight.\")\n",
    "elif 18.5 <= bmi < 24.9:\n",
    "    print(\"Your BMI is normal.\")\n",
    "elif 25 <= bmi < 29.9:\n",
    "    print(\"Your BMI is overweight.\")\n",
    "else:\n",
    "    print(\"Your BMI is obese.\")\n"
   ]
  },
  {
   "cell_type": "markdown",
   "metadata": {},
   "source": [
    "24. Create a program that determines whether a given number is positive, negative, or zero using elif\n",
    "statements.\n"
   ]
  },
  {
   "cell_type": "code",
   "execution_count": 24,
   "metadata": {},
   "outputs": [
    {
     "name": "stdout",
     "output_type": "stream",
     "text": [
      "The number is positive.\n"
     ]
    }
   ],
   "source": [
    "num = float(input(\"Enter a number: \"))\n",
    "if num > 0:\n",
    "    print(\"The number is positive.\")\n",
    "elif num < 0:\n",
    "    print(\"The number is negative.\")\n",
    "else:\n",
    "    print(\"The number is zero.\")\n"
   ]
  },
  {
   "cell_type": "markdown",
   "metadata": {},
   "source": [
    "25. Write a Python script to determine the type of a character (uppercase, lowercase, or special) using elif\n",
    "statements.\n"
   ]
  },
  {
   "cell_type": "code",
   "execution_count": 25,
   "metadata": {},
   "outputs": [
    {
     "name": "stdout",
     "output_type": "stream",
     "text": [
      "The character is lowercase.\n"
     ]
    }
   ],
   "source": [
    "char = input(\"Enter a character: \")\n",
    "if char.isupper():\n",
    "    print(\"The character is uppercase.\")\n",
    "elif char.islower():\n",
    "    print(\"The character is lowercase.\")\n",
    "else:\n",
    "    print(\"The character is special.\")\n"
   ]
  },
  {
   "cell_type": "markdown",
   "metadata": {},
   "source": [
    "26. Implement a program to calculate the discounted price based on different purchase amounts using elif\n",
    "statements.\n"
   ]
  },
  {
   "cell_type": "code",
   "execution_count": 26,
   "metadata": {},
   "outputs": [
    {
     "name": "stdout",
     "output_type": "stream",
     "text": [
      "The discounted price is 43723.200000000004.\n"
     ]
    }
   ],
   "source": [
    "amount = float(input(\"Enter the purchase amount: \"))\n",
    "if amount >= 1000:\n",
    "    discount = 0.2\n",
    "elif amount >= 500:\n",
    "    discount = 0.1\n",
    "else:\n",
    "    discount = 0\n",
    "discounted_price = amount * (1 - discount)\n",
    "print(f\"The discounted price is {discounted_price}.\")\n"
   ]
  },
  {
   "cell_type": "markdown",
   "metadata": {},
   "source": [
    "27. Develop a program to calculate the electricity bill based on different consumption slabs using elif\n",
    "statements.\n"
   ]
  },
  {
   "cell_type": "code",
   "execution_count": 27,
   "metadata": {},
   "outputs": [
    {
     "name": "stdout",
     "output_type": "stream",
     "text": [
      "The total electricity bill is 270.0.\n"
     ]
    }
   ],
   "source": [
    "units = float(input(\"Enter the number of units consumed: \"))\n",
    "if units <= 100:\n",
    "    bill = units * 5\n",
    "elif units <= 200:\n",
    "    bill = units * 7\n",
    "elif units <= 500:\n",
    "    bill = units * 10\n",
    "else:\n",
    "    bill = units * 12\n",
    "print(f\"The total electricity bill is {bill}.\")\n"
   ]
  },
  {
   "cell_type": "markdown",
   "metadata": {},
   "source": [
    "28. Create a program to determine the type of quadrilateral based on its angles and sides using elif\n",
    "statements.\n"
   ]
  },
  {
   "cell_type": "code",
   "execution_count": 28,
   "metadata": {},
   "outputs": [
    {
     "name": "stdout",
     "output_type": "stream",
     "text": [
      "The quadrilateral is a rhombus.\n"
     ]
    }
   ],
   "source": [
    "side1 = float(input(\"Enter first side: \"))\n",
    "side2 = float(input(\"Enter second side: \"))\n",
    "side3 = float(input(\"Enter third side: \"))\n",
    "side4 = float(input(\"Enter fourth side: \"))\n",
    "if side1 == side2 == side3 == side4:\n",
    "    print(\"The quadrilateral is a square.\")\n",
    "elif side1 == side3 and side2 == side4:\n",
    "    print(\"The quadrilateral is a rectangle.\")\n",
    "else:\n",
    "    print(\"The quadrilateral is a rhombus.\")\n"
   ]
  },
  {
   "cell_type": "markdown",
   "metadata": {},
   "source": [
    "29. Write a Python script to determine the season based on a user-provided month using elif statements.\n"
   ]
  },
  {
   "cell_type": "code",
   "execution_count": 29,
   "metadata": {},
   "outputs": [
    {
     "name": "stdout",
     "output_type": "stream",
     "text": [
      "It is spring.\n"
     ]
    }
   ],
   "source": [
    "month = int(input(\"Enter the month number (1-12): \"))\n",
    "if month in [12, 1, 2]:\n",
    "    print(\"It is winter.\")\n",
    "elif month in [3, 4, 5]:\n",
    "    print(\"It is spring.\")\n",
    "elif month in [6, 7, 8]:\n",
    "    print(\"It is summer.\")\n",
    "else:\n",
    "    print(\"It is autumn.\")\n"
   ]
  },
  {
   "cell_type": "markdown",
   "metadata": {},
   "source": [
    "30. Implement a program to determine the type of a year (leap or common) and month (30 or 31 days) using\n",
    "elif statements."
   ]
  },
  {
   "cell_type": "code",
   "execution_count": 30,
   "metadata": {},
   "outputs": [
    {
     "name": "stdout",
     "output_type": "stream",
     "text": [
      "1965 is not a leap year.\n",
      "Month 5 has 31 days.\n"
     ]
    }
   ],
   "source": [
    "year = int(input(\"Enter the year: \"))\n",
    "month = int(input(\"Enter the month (1-12): \"))\n",
    "if (year % 4 == 0 and year % 100 != 0) or (year % 400 == 0):\n",
    "    print(f\"{year} is a leap year.\")\n",
    "else:\n",
    "    print(f\"{year} is not a leap year.\")\n",
    "if month in [4, 6, 9, 11]:\n",
    "    print(f\"Month {month} has 30 days.\")\n",
    "elif month == 2:\n",
    "    if (year % 4 == 0 and year % 100 != 0) or (year % 400 == 0):\n",
    "        print(\"February has 29 days.\")\n",
    "    else:\n",
    "        print(\"February has 28 days.\")\n",
    "else:\n",
    "    print(f\"Month {month} has 31 days.\")\n"
   ]
  },
  {
   "cell_type": "markdown",
   "metadata": {},
   "source": [
    "**Basic Level**"
   ]
  },
  {
   "cell_type": "markdown",
   "metadata": {},
   "source": [
    "1. Write a Python program that checks if a given number is positive, negative, or zero.\n"
   ]
  },
  {
   "cell_type": "code",
   "execution_count": 31,
   "metadata": {},
   "outputs": [
    {
     "name": "stdout",
     "output_type": "stream",
     "text": [
      "The number is negative.\n"
     ]
    }
   ],
   "source": [
    "num = float(input(\"Enter a number: \"))\n",
    "if num > 0:\n",
    "    print(\"The number is positive.\")\n",
    "elif num < 0:\n",
    "    print(\"The number is negative.\")\n",
    "else:\n",
    "    print(\"The number is zero.\")\n"
   ]
  },
  {
   "cell_type": "markdown",
   "metadata": {},
   "source": [
    "2. Create a program to determine if a person is eligible to vote based on their age.\n"
   ]
  },
  {
   "cell_type": "code",
   "execution_count": 32,
   "metadata": {},
   "outputs": [
    {
     "name": "stdout",
     "output_type": "stream",
     "text": [
      "You are eligible to vote.\n"
     ]
    }
   ],
   "source": [
    "age = int(input(\"Enter your age: \"))\n",
    "if age >= 18:\n",
    "    print(\"You are eligible to vote.\")\n",
    "else:\n",
    "    print(\"You are not eligible to vote.\")\n"
   ]
  },
  {
   "cell_type": "markdown",
   "metadata": {},
   "source": [
    "3. Write a program to find the maximum of two given numbers using conditional statements.\n"
   ]
  },
  {
   "cell_type": "code",
   "execution_count": 33,
   "metadata": {},
   "outputs": [
    {
     "name": "stdout",
     "output_type": "stream",
     "text": [
      "The maximum number is 56.0.\n"
     ]
    }
   ],
   "source": [
    "num1 = float(input(\"Enter first number: \"))\n",
    "num2 = float(input(\"Enter second number: \"))\n",
    "if num1 > num2:\n",
    "    print(f\"The maximum number is {num1}.\")\n",
    "else:\n",
    "    print(f\"The maximum number is {num2}.\")\n"
   ]
  },
  {
   "cell_type": "markdown",
   "metadata": {},
   "source": [
    "4. Develop a program that calculates the grade of a student based on their exam score.\n"
   ]
  },
  {
   "cell_type": "code",
   "execution_count": 34,
   "metadata": {},
   "outputs": [
    {
     "name": "stdout",
     "output_type": "stream",
     "text": [
      "Grade F\n"
     ]
    }
   ],
   "source": [
    "score = int(input(\"Enter your score: \"))\n",
    "if score >= 90:\n",
    "    print(\"Grade A\")\n",
    "elif score >= 80:\n",
    "    print(\"Grade B\")\n",
    "elif score >= 70:\n",
    "    print(\"Grade C\")\n",
    "elif score >= 60:\n",
    "    print(\"Grade D\")\n",
    "else:\n",
    "    print(\"Grade F\")\n"
   ]
  },
  {
   "cell_type": "markdown",
   "metadata": {},
   "source": [
    "5. Create a program that checks if a year is a leap year or not.\n"
   ]
  },
  {
   "cell_type": "code",
   "execution_count": 35,
   "metadata": {},
   "outputs": [
    {
     "name": "stdout",
     "output_type": "stream",
     "text": [
      "1947 is not a leap year.\n"
     ]
    }
   ],
   "source": [
    "year = int(input(\"Enter a year: \"))\n",
    "if (year % 4 == 0 and year % 100 != 0) or (year % 400 == 0):\n",
    "    print(f\"{year} is a leap year.\")\n",
    "else:\n",
    "    print(f\"{year} is not a leap year.\")\n"
   ]
  },
  {
   "cell_type": "markdown",
   "metadata": {},
   "source": [
    "6. Write a program to classify a triangle based on its sides' lengths.\n"
   ]
  },
  {
   "cell_type": "code",
   "execution_count": 36,
   "metadata": {},
   "outputs": [
    {
     "name": "stdout",
     "output_type": "stream",
     "text": [
      "The triangle is scalene.\n"
     ]
    }
   ],
   "source": [
    "a = float(input(\"Enter side 1: \"))\n",
    "b = float(input(\"Enter side 2: \"))\n",
    "c = float(input(\"Enter side 3: \"))\n",
    "if a == b and b == c:\n",
    "    print(\"The triangle is equilateral.\")\n",
    "elif a == b or b == c or a == c:\n",
    "    print(\"The triangle is isosceles.\")\n",
    "else:\n",
    "    print(\"The triangle is scalene.\")\n"
   ]
  },
  {
   "cell_type": "markdown",
   "metadata": {},
   "source": [
    "7. Build a program that determines the largest of three given numbers.\n"
   ]
  },
  {
   "cell_type": "code",
   "execution_count": 37,
   "metadata": {},
   "outputs": [
    {
     "name": "stdout",
     "output_type": "stream",
     "text": [
      "The largest number is 145.0.\n"
     ]
    }
   ],
   "source": [
    "num1 = float(input(\"Enter first number: \"))\n",
    "num2 = float(input(\"Enter second number: \"))\n",
    "num3 = float(input(\"Enter third number: \"))\n",
    "if num1 >= num2 and num1 >= num3:\n",
    "    print(f\"The largest number is {num1}.\")\n",
    "elif num2 >= num1 and num2 >= num3:\n",
    "    print(f\"The largest number is {num2}.\")\n",
    "else:\n",
    "    print(f\"The largest number is {num3}.\")\n"
   ]
  },
  {
   "cell_type": "markdown",
   "metadata": {},
   "source": [
    "8. Develop a program that checks whether a character is a vowel or a consonant.\n"
   ]
  },
  {
   "cell_type": "code",
   "execution_count": 38,
   "metadata": {},
   "outputs": [
    {
     "name": "stdout",
     "output_type": "stream",
     "text": [
      "to is a consonant.\n"
     ]
    }
   ],
   "source": [
    "char = input(\"Enter a character: \").lower()\n",
    "if char in 'aeiou':\n",
    "    print(f\"{char} is a vowel.\")\n",
    "else:\n",
    "    print(f\"{char} is a consonant.\")\n"
   ]
  },
  {
   "cell_type": "markdown",
   "metadata": {},
   "source": [
    "9. Create a program to calculate the total cost of a shopping cart based on discounts.\n"
   ]
  },
  {
   "cell_type": "code",
   "execution_count": 39,
   "metadata": {},
   "outputs": [
    {
     "name": "stdout",
     "output_type": "stream",
     "text": [
      "Total after discount: 988.8000000000001\n"
     ]
    }
   ],
   "source": [
    "cart_total = float(input(\"Enter the total cost of the shopping cart: \"))\n",
    "if cart_total >= 100:\n",
    "    discount = 0.2\n",
    "elif cart_total >= 50:\n",
    "    discount = 0.1\n",
    "else:\n",
    "    discount = 0\n",
    "total_after_discount = cart_total * (1 - discount)\n",
    "print(f\"Total after discount: {total_after_discount}\")\n"
   ]
  },
  {
   "cell_type": "markdown",
   "metadata": {},
   "source": [
    "10. Write a program that checks if a given number is even or odd."
   ]
  },
  {
   "cell_type": "code",
   "execution_count": 40,
   "metadata": {},
   "outputs": [
    {
     "name": "stdout",
     "output_type": "stream",
     "text": [
      "45 is odd.\n"
     ]
    }
   ],
   "source": [
    "num = int(input(\"Enter a number: \"))\n",
    "if num % 2 == 0:\n",
    "    print(f\"{num} is even.\")\n",
    "else:\n",
    "    print(f\"{num} is odd.\")\n"
   ]
  },
  {
   "cell_type": "markdown",
   "metadata": {},
   "source": [
    "**Intermediate Level**"
   ]
  },
  {
   "cell_type": "markdown",
   "metadata": {},
   "source": [
    "11. Write a program that calculates the roots of a quadratic equation .\n"
   ]
  },
  {
   "cell_type": "code",
   "execution_count": 41,
   "metadata": {},
   "outputs": [
    {
     "name": "stdout",
     "output_type": "stream",
     "text": [
      "No real roots.\n"
     ]
    }
   ],
   "source": [
    "import math\n",
    "\n",
    "a = float(input(\"Enter coefficient a: \"))\n",
    "b = float(input(\"Enter coefficient b: \"))\n",
    "c = float(input(\"Enter coefficient c: \"))\n",
    "\n",
    "discriminant = b**2 - 4*a*c\n",
    "if discriminant > 0:\n",
    "    root1 = (-b + math.sqrt(discriminant)) / (2*a)\n",
    "    root2 = (-b - math.sqrt(discriminant)) / (2*a)\n",
    "    print(f\"The roots are {root1} and {root2}.\")\n",
    "elif discriminant == 0:\n",
    "    root = -b / (2*a)\n",
    "    print(f\"The root is {root}.\")\n",
    "else:\n",
    "    print(\"No real roots.\")\n"
   ]
  },
  {
   "cell_type": "markdown",
   "metadata": {},
   "source": [
    "12. Create a program that determines the day of the week based on the day number (1-7).\n"
   ]
  },
  {
   "cell_type": "code",
   "execution_count": 42,
   "metadata": {},
   "outputs": [
    {
     "name": "stdout",
     "output_type": "stream",
     "text": [
      "Sunday\n"
     ]
    }
   ],
   "source": [
    "day = int(input(\"Enter a day number (1-7): \"))\n",
    "if day == 1:\n",
    "    print(\"Monday\")\n",
    "elif day == 2:\n",
    "    print(\"Tuesday\")\n",
    "elif day == 3:\n",
    "    print(\"Wednesday\")\n",
    "elif day == 4:\n",
    "    print(\"Thursday\")\n",
    "elif day == 5:\n",
    "    print(\"Friday\")\n",
    "elif day == 6:\n",
    "    print(\"Saturday\")\n",
    "elif day == 7:\n",
    "    print(\"Sunday\")\n",
    "else:\n",
    "    print(\"Invalid input.\")\n"
   ]
  },
  {
   "cell_type": "markdown",
   "metadata": {},
   "source": [
    "13. Develop a program that calculates the factorial of a given number using recursion.\n"
   ]
  },
  {
   "cell_type": "code",
   "execution_count": 1,
   "metadata": {},
   "outputs": [
    {
     "name": "stdout",
     "output_type": "stream",
     "text": [
      "The factorial of 4 is 24.\n"
     ]
    }
   ],
   "source": [
    "def factorial(n):\n",
    "    if n == 0 or n == 1:\n",
    "        return 1\n",
    "    else:\n",
    "        return n * factorial(n-1)\n",
    "\n",
    "num = int(input(\"Enter a number: \"))\n",
    "print(f\"The factorial of {num} is {factorial(num)}.\")\n"
   ]
  },
  {
   "cell_type": "markdown",
   "metadata": {},
   "source": [
    "14. Write a program to find the largest among three numbers without using the `max()` function.\n"
   ]
  },
  {
   "cell_type": "code",
   "execution_count": 2,
   "metadata": {},
   "outputs": [
    {
     "name": "stdout",
     "output_type": "stream",
     "text": [
      "The largest number is 78.0.\n"
     ]
    }
   ],
   "source": [
    "num1 = float(input(\"Enter first number: \"))\n",
    "num2 = float(input(\"Enter second number: \"))\n",
    "num3 = float(input(\"Enter third number: \"))\n",
    "if num1 >= num2 and num1 >= num3:\n",
    "    print(f\"The largest number is {num1}.\")\n",
    "elif num2 >= num1 and num2 >= num3:\n",
    "    print(f\"The largest number is {num2}.\")\n",
    "else:\n",
    "    print(f\"The largest number is {num3}.\")\n"
   ]
  },
  {
   "cell_type": "markdown",
   "metadata": {},
   "source": [
    "15. Create a program that simulates a basic ATM transaction menu.\n"
   ]
  },
  {
   "cell_type": "code",
   "execution_count": 3,
   "metadata": {},
   "outputs": [
    {
     "name": "stdout",
     "output_type": "stream",
     "text": [
      "ATM Menu\n",
      "1. Check Balance\n",
      "2. Withdraw\n",
      "3. Deposit\n",
      "4. Exit\n",
      "Your balance is $1000\n",
      "ATM Menu\n",
      "1. Check Balance\n",
      "2. Withdraw\n",
      "3. Deposit\n",
      "4. Exit\n",
      "Deposited $545.0. New balance is $1545.0.\n",
      "ATM Menu\n",
      "1. Check Balance\n",
      "2. Withdraw\n",
      "3. Deposit\n",
      "4. Exit\n",
      "Your balance is $1545.0\n",
      "ATM Menu\n",
      "1. Check Balance\n",
      "2. Withdraw\n",
      "3. Deposit\n",
      "4. Exit\n",
      "Exiting... Thank you for using ATM.\n"
     ]
    }
   ],
   "source": [
    "balance = 1000\n",
    "while True:\n",
    "    print(\"ATM Menu\")\n",
    "    print(\"1. Check Balance\")\n",
    "    print(\"2. Withdraw\")\n",
    "    print(\"3. Deposit\")\n",
    "    print(\"4. Exit\")\n",
    "    \n",
    "    choice = int(input(\"Enter your choice: \"))\n",
    "    \n",
    "    if choice == 1:\n",
    "        print(f\"Your balance is ${balance}\")\n",
    "    elif choice == 2:\n",
    "        amount = float(input(\"Enter amount to withdraw: \"))\n",
    "        if amount <= balance:\n",
    "            balance -= amount\n",
    "            print(f\"Withdrawn ${amount}. New balance is ${balance}.\")\n",
    "        else:\n",
    "            print(\"Insufficient funds.\")\n",
    "    elif choice == 3:\n",
    "        amount = float(input(\"Enter amount to deposit: \"))\n",
    "        balance += amount\n",
    "        print(f\"Deposited ${amount}. New balance is ${balance}.\")\n",
    "    elif choice == 4:\n",
    "        print(\"Exiting... Thank you for using ATM.\")\n",
    "        break\n",
    "    else:\n",
    "        print(\"Invalid choice. Please try again.\")\n"
   ]
  },
  {
   "cell_type": "markdown",
   "metadata": {},
   "source": [
    "16. Build a program that checks if a given string is a palindrome or not.\n"
   ]
  },
  {
   "cell_type": "code",
   "execution_count": 4,
   "metadata": {},
   "outputs": [
    {
     "name": "stdout",
     "output_type": "stream",
     "text": [
      "The string is not a palindrome.\n"
     ]
    }
   ],
   "source": [
    "string = input(\"Enter a string: \").lower()\n",
    "if string == string[::-1]:\n",
    "    print(\"The string is a palindrome.\")\n",
    "else:\n",
    "    print(\"The string is not a palindrome.\")\n"
   ]
  },
  {
   "cell_type": "markdown",
   "metadata": {},
   "source": [
    "17. Write a program that calculates the average of a list of numbers, excluding the smallest and largest values.\n"
   ]
  },
  {
   "cell_type": "code",
   "execution_count": 5,
   "metadata": {},
   "outputs": [
    {
     "name": "stdout",
     "output_type": "stream",
     "text": [
      "The average, excluding the smallest and largest numbers, is 15.5.\n"
     ]
    }
   ],
   "source": [
    "numbers = [float(x) for x in input(\"Enter numbers separated by spaces: \").split()]\n",
    "numbers.sort()\n",
    "average = sum(numbers[1:-1]) / (len(numbers) - 2) if len(numbers) > 2 else 0\n",
    "print(f\"The average, excluding the smallest and largest numbers, is {average}.\")\n"
   ]
  },
  {
   "cell_type": "markdown",
   "metadata": {},
   "source": [
    "18. Develop a program that converts a given temperature from Celsius to Fahrenheit.\n"
   ]
  },
  {
   "cell_type": "code",
   "execution_count": 6,
   "metadata": {},
   "outputs": [
    {
     "name": "stdout",
     "output_type": "stream",
     "text": [
      "37.0°C is equal to 98.6°F.\n"
     ]
    }
   ],
   "source": [
    "celsius = float(input(\"Enter temperature in Celsius: \"))\n",
    "fahrenheit = (celsius * 9/5) + 32\n",
    "print(f\"{celsius}°C is equal to {fahrenheit}°F.\")\n"
   ]
  },
  {
   "cell_type": "markdown",
   "metadata": {},
   "source": [
    "19. Create a program that simulates a basic calculator for addition, subtraction, multiplication, and division.\n"
   ]
  },
  {
   "cell_type": "code",
   "execution_count": 7,
   "metadata": {},
   "outputs": [
    {
     "name": "stdout",
     "output_type": "stream",
     "text": [
      "\n",
      "Calculator Menu\n",
      "1. Add\n",
      "2. Subtract\n",
      "3. Multiply\n",
      "4. Divide\n",
      "5. Exit\n",
      "Result: 9.0\n",
      "\n",
      "Calculator Menu\n",
      "1. Add\n",
      "2. Subtract\n",
      "3. Multiply\n",
      "4. Divide\n",
      "5. Exit\n",
      "Exiting the calculator.\n"
     ]
    }
   ],
   "source": [
    "def add(x, y): return x + y\n",
    "def subtract(x, y): return x - y\n",
    "def multiply(x, y): return x * y\n",
    "def divide(x, y): return x / y if y != 0 else \"Cannot divide by zero\"\n",
    "\n",
    "while True:\n",
    "    print(\"\\nCalculator Menu\")\n",
    "    print(\"1. Add\")\n",
    "    print(\"2. Subtract\")\n",
    "    print(\"3. Multiply\")\n",
    "    print(\"4. Divide\")\n",
    "    print(\"5. Exit\")\n",
    "    \n",
    "    choice = input(\"Enter choice (1/2/3/4/5): \")\n",
    "    \n",
    "    if choice == '5':\n",
    "        print(\"Exiting the calculator.\")\n",
    "        break\n",
    "    \n",
    "    num1 = float(input(\"Enter first number: \"))\n",
    "    num2 = float(input(\"Enter second number: \"))\n",
    "    \n",
    "    if choice == '1':\n",
    "        print(f\"Result: {add(num1, num2)}\")\n",
    "    elif choice == '2':\n",
    "        print(f\"Result: {subtract(num1, num2)}\")\n",
    "    elif choice == '3':\n",
    "        print(f\"Result: {multiply(num1, num2)}\")\n",
    "    elif choice == '4':\n",
    "        print(f\"Result: {divide(num1, num2)}\")\n",
    "    else:\n",
    "        print(\"Invalid choice.\")\n"
   ]
  },
  {
   "cell_type": "markdown",
   "metadata": {},
   "source": [
    "20. Write a program that determines the roots of a cubic equation using the Cardano formula."
   ]
  },
  {
   "cell_type": "code",
   "execution_count": 8,
   "metadata": {},
   "outputs": [
    {
     "name": "stdout",
     "output_type": "stream",
     "text": [
      "The roots are: (-12.586412124907765+0j), (5.314945192888663-10.418423049318834j), (5.31494519288867+10.41842304931883j)\n"
     ]
    }
   ],
   "source": [
    "import cmath\n",
    "\n",
    "a = float(input(\"Enter coefficient a: \"))\n",
    "b = float(input(\"Enter coefficient b: \"))\n",
    "c = float(input(\"Enter coefficient c: \"))\n",
    "d = float(input(\"Enter coefficient d: \"))\n",
    "\n",
    "delta0 = b**2 - 3*a*c\n",
    "delta1 = 2*b**3 - 9*a*b*c + 27*a**2*d\n",
    "C = cmath.sqrt((delta1 + cmath.sqrt(delta1**2 - 4*delta0**3)) / 2)\n",
    "\n",
    "roots = []\n",
    "for k in range(3):\n",
    "    root = -(1/(3*a)) * (b + C * cmath.exp(2j * cmath.pi * k / 3) + delta0 / (C * cmath.exp(2j * cmath.pi * k / 3)))\n",
    "    roots.append(root)\n",
    "\n",
    "print(f\"The roots are: {roots[0]}, {roots[1]}, {roots[2]}\")\n"
   ]
  },
  {
   "cell_type": "markdown",
   "metadata": {},
   "source": [
    "**Advanced Level**"
   ]
  },
  {
   "cell_type": "markdown",
   "metadata": {},
   "source": [
    "21. Create a program that calculates the income tax based on the user's income and tax brackets.\n"
   ]
  },
  {
   "cell_type": "code",
   "execution_count": 9,
   "metadata": {},
   "outputs": [
    {
     "name": "stdout",
     "output_type": "stream",
     "text": [
      "The income tax is $1244.6.\n"
     ]
    }
   ],
   "source": [
    "income = float(input(\"Enter your income: \"))\n",
    "if income <= 10000:\n",
    "    tax = 0\n",
    "elif income <= 20000:\n",
    "    tax = 0.1 * (income - 10000)\n",
    "elif income <= 50000:\n",
    "    tax = 1000 + 0.2 * (income - 20000)\n",
    "else:\n",
    "    tax = 9000 + 0.3 * (income - 50000)\n",
    "print(f\"The income tax is ${tax}.\")\n"
   ]
  },
  {
   "cell_type": "markdown",
   "metadata": {},
   "source": [
    "22. Write a program that simulates a rock-paper-scissors game against the computer.\n"
   ]
  },
  {
   "cell_type": "code",
   "execution_count": 10,
   "metadata": {},
   "outputs": [
    {
     "name": "stdout",
     "output_type": "stream",
     "text": [
      "You win! rock beats scissors.\n"
     ]
    }
   ],
   "source": [
    "import random\n",
    "\n",
    "choices = ['rock', 'paper', 'scissors']\n",
    "user_choice = input(\"Enter rock, paper, or scissors: \").lower()\n",
    "computer_choice = random.choice(choices)\n",
    "\n",
    "if user_choice == computer_choice:\n",
    "    print(f\"Both chose {user_choice}. It's a tie!\")\n",
    "elif (user_choice == 'rock' and computer_choice == 'scissors') or \\\n",
    "     (user_choice == 'paper' and computer_choice == 'rock') or \\\n",
    "     (user_choice == 'scissors' and computer_choice == 'paper'):\n",
    "    print(f\"You win! {user_choice} beats {computer_choice}.\")\n",
    "else:\n",
    "    print(f\"You lose! {computer_choice} beats {user_choice}.\")\n"
   ]
  },
  {
   "cell_type": "markdown",
   "metadata": {},
   "source": [
    "23. Develop a program that generates a random password based on user preferences (length, complexity).\n"
   ]
  },
  {
   "cell_type": "code",
   "execution_count": 11,
   "metadata": {},
   "outputs": [
    {
     "name": "stdout",
     "output_type": "stream",
     "text": [
      "Generated password: L6tSME\n"
     ]
    }
   ],
   "source": [
    "import random\n",
    "import string\n",
    "\n",
    "length = int(input(\"Enter the desired password length: \"))\n",
    "complexity = input(\"Enter complexity (1 for simple, 2 for medium, 3 for high): \")\n",
    "\n",
    "if complexity == '1':\n",
    "    chars = string.ascii_lowercase\n",
    "elif complexity == '2':\n",
    "    chars = string.ascii_letters + string.digits\n",
    "else:\n",
    "    chars = string.ascii_letters + string.digits + string.punctuation\n",
    "\n",
    "password = ''.join(random.choice(chars) for i in range(length))\n",
    "print(f\"Generated password: {password}\")\n"
   ]
  },
  {
   "cell_type": "markdown",
   "metadata": {},
   "source": [
    "24. Create a program that implements a simple text-based adventure game with branching scenarios.\n"
   ]
  },
  {
   "cell_type": "code",
   "execution_count": 12,
   "metadata": {},
   "outputs": [
    {
     "name": "stdout",
     "output_type": "stream",
     "text": [
      "You are in a dark room. There are two doors.\n",
      "You found a treasure chest! You win!\n"
     ]
    }
   ],
   "source": [
    "def start_game():\n",
    "    print(\"You are in a dark room. There are two doors.\")\n",
    "    choice = input(\"Do you want to go through door 1 or door 2? \")\n",
    "    \n",
    "    if choice == '1':\n",
    "        print(\"You found a treasure chest! You win!\")\n",
    "    elif choice == '2':\n",
    "        print(\"A monster attacks you. You lose!\")\n",
    "    else:\n",
    "        print(\"Invalid choice. Please choose 1 or 2.\")\n",
    "\n",
    "start_game()\n"
   ]
  },
  {
   "cell_type": "markdown",
   "metadata": {},
   "source": [
    "25. Build a program that solves a linear equation for x, considering different cases.\n"
   ]
  },
  {
   "cell_type": "code",
   "execution_count": 13,
   "metadata": {},
   "outputs": [
    {
     "name": "stdout",
     "output_type": "stream",
     "text": [
      "The solution is x = -13.0\n"
     ]
    }
   ],
   "source": [
    "a = float(input(\"Enter coefficient a: \"))\n",
    "b = float(input(\"Enter coefficient b: \"))\n",
    "if a == 0:\n",
    "    print(\"No solution\" if b != 0 else \"Infinite solutions\")\n",
    "else:\n",
    "    x = -b / a\n",
    "    print(f\"The solution is x = {x}\")\n"
   ]
  },
  {
   "cell_type": "markdown",
   "metadata": {},
   "source": [
    "26. Write a program that simulates a basic quiz game with multiple-choice questions and scoring.\n"
   ]
  },
  {
   "cell_type": "code",
   "execution_count": 14,
   "metadata": {},
   "outputs": [
    {
     "name": "stdout",
     "output_type": "stream",
     "text": [
      "Your score is 2/3\n"
     ]
    }
   ],
   "source": [
    "questions = {\n",
    "    \"What is the capital of France?\": \"paris\",\n",
    "    \"What is 5 + 3?\": \"8\",\n",
    "    \"What color is the sky?\": \"blue\"\n",
    "}\n",
    "\n",
    "score = 0\n",
    "for question, answer in questions.items():\n",
    "    user_answer = input(f\"{question} \").lower()\n",
    "    if user_answer == answer:\n",
    "        score += 1\n",
    "\n",
    "print(f\"Your score is {score}/{len(questions)}\")\n"
   ]
  },
  {
   "cell_type": "markdown",
   "metadata": {},
   "source": [
    "27. Develop a program that determines whether a given year is a prime number or not.\n"
   ]
  },
  {
   "cell_type": "code",
   "execution_count": 15,
   "metadata": {},
   "outputs": [
    {
     "name": "stdout",
     "output_type": "stream",
     "text": [
      "3000 is not prime.\n"
     ]
    }
   ],
   "source": [
    "year = int(input(\"Enter a year: \"))\n",
    "if year < 2:\n",
    "    print(f\"{year} is not prime.\")\n",
    "else:\n",
    "    is_prime = True\n",
    "    for i in range(2, int(year ** 0.5) + 1):\n",
    "        if year % i == 0:\n",
    "            is_prime = False\n",
    "            break\n",
    "    if is_prime:\n",
    "        print(f\"{year} is prime.\")\n",
    "    else:\n",
    "        print(f\"{year} is not prime.\")\n"
   ]
  },
  {
   "cell_type": "markdown",
   "metadata": {},
   "source": [
    "28. Create a program that sorts three numbers in ascending order using conditional statements.\n"
   ]
  },
  {
   "cell_type": "code",
   "execution_count": 16,
   "metadata": {},
   "outputs": [
    {
     "name": "stdout",
     "output_type": "stream",
     "text": [
      "The sorted numbers are: [4.0, 56.0, 78.0]\n"
     ]
    }
   ],
   "source": [
    "num1 = float(input(\"Enter first number: \"))\n",
    "num2 = float(input(\"Enter second number: \"))\n",
    "num3 = float(input(\"Enter third number: \"))\n",
    "numbers = [num1, num2, num3]\n",
    "numbers.sort()\n",
    "print(f\"The sorted numbers are: {numbers}\")\n"
   ]
  },
  {
   "cell_type": "markdown",
   "metadata": {},
   "source": [
    "29. Build a program that determines the roots of a quartic equation using numerical methods.\n"
   ]
  },
  {
   "cell_type": "code",
   "execution_count": 17,
   "metadata": {},
   "outputs": [
    {
     "name": "stdout",
     "output_type": "stream",
     "text": [
      "The roots of the quartic equation are: [-0.34520298+1.14973317j -0.34520298-1.14973317j -0.80959404+0.j        ]\n"
     ]
    }
   ],
   "source": [
    "import numpy as np\n",
    "coefficients = [float(input(f\"Enter coefficient {i}: \")) for i in range(4, 0, -1)]\n",
    "roots = np.roots(coefficients)\n",
    "print(f\"The roots of the quartic equation are: {roots}\")\n"
   ]
  },
  {
   "cell_type": "markdown",
   "metadata": {},
   "source": [
    "30. Write a program that calculates the BMI (Body Mass Index) and provides health recommendations based\n",
    "on the user's input."
   ]
  },
  {
   "cell_type": "code",
   "execution_count": 18,
   "metadata": {},
   "outputs": [
    {
     "name": "stdout",
     "output_type": "stream",
     "text": [
      "Normal weight\n"
     ]
    }
   ],
   "source": [
    "weight = float(input(\"Enter weight in kg: \"))\n",
    "height = float(input(\"Enter height in meters: \"))\n",
    "bmi = weight / (height ** 2)\n",
    "\n",
    "if bmi < 18.5:\n",
    "    print(\"Underweight\")\n",
    "elif bmi < 24.9:\n",
    "    print(\"Normal weight\")\n",
    "elif bmi < 29.9:\n",
    "    print(\"Overweight\")\n",
    "else:\n",
    "    print(\"Obesity\")\n"
   ]
  },
  {
   "cell_type": "markdown",
   "metadata": {},
   "source": [
    "**Challenge Level**"
   ]
  },
  {
   "cell_type": "markdown",
   "metadata": {},
   "source": [
    "31. Create a program that validates a password based on complexity rules (length, characters, etc.).\n"
   ]
  },
  {
   "cell_type": "code",
   "execution_count": 19,
   "metadata": {},
   "outputs": [
    {
     "name": "stdout",
     "output_type": "stream",
     "text": [
      "Password must be at least 8 characters long.\n"
     ]
    }
   ],
   "source": [
    "import re\n",
    "\n",
    "def validate_password(password):\n",
    "    if len(password) < 8:\n",
    "        return \"Password must be at least 8 characters long.\"\n",
    "    if not re.search(r\"[A-Za-z]\", password):\n",
    "        return \"Password must contain at least one letter.\"\n",
    "    if not re.search(r\"\\d\", password):\n",
    "        return \"Password must contain at least one number.\"\n",
    "    if not re.search(r\"[!@#$%^&*(),.?\\\":{}|<>]\", password):\n",
    "        return \"Password must contain at least one special character.\"\n",
    "    return \"Password is valid.\"\n",
    "\n",
    "password = input(\"Enter a password: \")\n",
    "print(validate_password(password))\n"
   ]
  },
  {
   "cell_type": "markdown",
   "metadata": {},
   "source": [
    "32. Develop a program that performs matrix addition and subtraction based on user input.\n"
   ]
  },
  {
   "cell_type": "code",
   "execution_count": 20,
   "metadata": {},
   "outputs": [
    {
     "name": "stdout",
     "output_type": "stream",
     "text": [
      "Enter first matrix:\n",
      "Enter second matrix:\n",
      "Result of matrix addition:\n",
      "[8, 10, 12]\n",
      "[11, 9, 14]\n"
     ]
    }
   ],
   "source": [
    "def matrix_input(rows, cols):\n",
    "    matrix = []\n",
    "    for i in range(rows):\n",
    "        row = list(map(int, input(f\"Enter row {i+1} (separated by space): \").split()))\n",
    "        matrix.append(row)\n",
    "    return matrix\n",
    "\n",
    "def matrix_addition(matrix1, matrix2):\n",
    "    return [[matrix1[i][j] + matrix2[i][j] for j in range(len(matrix1[0]))] for i in range(len(matrix1))]\n",
    "\n",
    "def matrix_subtraction(matrix1, matrix2):\n",
    "    return [[matrix1[i][j] - matrix2[i][j] for j in range(len(matrix1[0]))] for i in range(len(matrix1))]\n",
    "\n",
    "rows, cols = map(int, input(\"Enter number of rows and columns (separated by space): \").split())\n",
    "print(\"Enter first matrix:\")\n",
    "matrix1 = matrix_input(rows, cols)\n",
    "print(\"Enter second matrix:\")\n",
    "matrix2 = matrix_input(rows, cols)\n",
    "\n",
    "operation = input(\"Enter operation (add/subtract): \").lower()\n",
    "\n",
    "if operation == 'add':\n",
    "    result = matrix_addition(matrix1, matrix2)\n",
    "    print(\"Result of matrix addition:\")\n",
    "elif operation == 'subtract':\n",
    "    result = matrix_subtraction(matrix1, matrix2)\n",
    "    print(\"Result of matrix subtraction:\")\n",
    "else:\n",
    "    print(\"Invalid operation.\")\n",
    "    exit()\n",
    "\n",
    "for row in result:\n",
    "    print(row)\n"
   ]
  },
  {
   "cell_type": "markdown",
   "metadata": {},
   "source": [
    "33. Write a program that calculates the greatest common divisor (GCD) of two numbers using the Euclidean\n",
    "algorithm.\n"
   ]
  },
  {
   "cell_type": "code",
   "execution_count": 21,
   "metadata": {},
   "outputs": [
    {
     "name": "stdout",
     "output_type": "stream",
     "text": [
      "The GCD of 56 and 96 is 8.\n"
     ]
    }
   ],
   "source": [
    "def gcd(a, b):\n",
    "    while b != 0:\n",
    "        a, b = b, a % b\n",
    "    return a\n",
    "\n",
    "num1 = int(input(\"Enter first number: \"))\n",
    "num2 = int(input(\"Enter second number: \"))\n",
    "print(f\"The GCD of {num1} and {num2} is {gcd(num1, num2)}.\")\n"
   ]
  },
  {
   "cell_type": "markdown",
   "metadata": {},
   "source": [
    "34. Build a program that performs matrix multiplication using nested loops and conditional statements.\n"
   ]
  },
  {
   "cell_type": "code",
   "execution_count": 22,
   "metadata": {},
   "outputs": [
    {
     "name": "stdout",
     "output_type": "stream",
     "text": [
      "Matrix multiplication is not possible due to incompatible dimensions.\n"
     ]
    }
   ],
   "source": [
    "def matrix_input(rows, cols):\n",
    "    matrix = []\n",
    "    for i in range(rows):\n",
    "        row = list(map(int, input(f\"Enter row {i+1} (separated by space): \").split()))\n",
    "        matrix.append(row)\n",
    "    return matrix\n",
    "\n",
    "def matrix_multiply(matrix1, matrix2):\n",
    "    rows1, cols1 = len(matrix1), len(matrix1[0])\n",
    "    rows2, cols2 = len(matrix2), len(matrix2[0])\n",
    "    if cols1 != rows2:\n",
    "        print(\"Matrix multiplication not possible.\")\n",
    "        return None\n",
    "    result = [[0] * cols2 for _ in range(rows1)]\n",
    "    for i in range(rows1):\n",
    "        for j in range(cols2):\n",
    "            result[i][j] = sum(matrix1[i][k] * matrix2[k][j] for k in range(cols1))\n",
    "    return result\n",
    "\n",
    "rows1, cols1 = map(int, input(\"Enter rows and columns of first matrix: \").split())\n",
    "rows2, cols2 = map(int, input(\"Enter rows and columns of second matrix: \").split())\n",
    "\n",
    "if cols1 != rows2:\n",
    "    print(\"Matrix multiplication is not possible due to incompatible dimensions.\")\n",
    "else:\n",
    "    print(\"Enter first matrix:\")\n",
    "    matrix1 = matrix_input(rows1, cols1)\n",
    "    print(\"Enter second matrix:\")\n",
    "    matrix2 = matrix_input(rows2, cols2)\n",
    "    \n",
    "    result = matrix_multiply(matrix1, matrix2)\n",
    "    if result:\n",
    "        print(\"Result of matrix multiplication:\")\n",
    "        for row in result:\n",
    "            print(row)\n"
   ]
  },
  {
   "cell_type": "markdown",
   "metadata": {},
   "source": [
    "35. Create a program that simulates a basic text-based tic-tac-toe game against the computer.\n"
   ]
  },
  {
   "cell_type": "code",
   "execution_count": null,
   "metadata": {},
   "outputs": [],
   "source": [
    "import random\n",
    "\n",
    "def print_board(board):\n",
    "    for i in range(3):\n",
    "        print(\" | \".join(board[i]))\n",
    "        if i < 2:\n",
    "            print(\"---------\")\n",
    "\n",
    "def check_winner(board, player):\n",
    "    for row in board:\n",
    "        if all(s == player for s in row):\n",
    "            return True\n",
    "    for col in range(3):\n",
    "        if all(board[row][col] == player for row in range(3)):\n",
    "            return True\n",
    "    if all(board[i][i] == player for i in range(3)) or all(board[i][2-i] == player for i in range(3)):\n",
    "        return True\n",
    "    return False\n",
    "\n",
    "def computer_move(board):\n",
    "    empty_cells = [(i, j) for i in range(3) for j in range(3) if board[i][j] == \" \"]\n",
    "    return random.choice(empty_cells)\n",
    "\n",
    "board = [[\" \"] * 3 for _ in range(3)]\n",
    "turn = \"X\"\n",
    "\n",
    "while True:\n",
    "    print_board(board)\n",
    "    if turn == \"X\":\n",
    "        row, col = map(int, input(f\"Player {turn}, enter row and column (0-2): \").split())\n",
    "        if board[row][col] == \" \":\n",
    "            board[row][col] = turn\n",
    "            if check_winner(board, turn):\n",
    "                print_board(board)\n",
    "                print(f\"Player {turn} wins!\")\n",
    "                break\n",
    "            turn = \"O\"\n",
    "        else:\n",
    "            print(\"Cell already taken. Try again.\")\n",
    "    else:\n",
    "        row, col = computer_move(board)\n",
    "        board[row][col] = turn\n",
    "        print(f\"Computer played at {row}, {col}\")\n",
    "        if check_winner(board, turn):\n",
    "            print_board(board)\n",
    "            print(f\"Player {turn} (Computer) wins!\")\n",
    "            break\n",
    "        turn = \"X\"\n",
    "    if all(board[i][j] != \" \" for i in range(3) for j in range(3)):\n",
    "        print_board(board)\n",
    "        print(\"It's a tie!\")\n",
    "        break\n"
   ]
  },
  {
   "cell_type": "markdown",
   "metadata": {},
   "source": [
    "36. Write a program that generates Fibonacci numbers up to a specified term using iterative methods.\n"
   ]
  },
  {
   "cell_type": "code",
   "execution_count": 26,
   "metadata": {},
   "outputs": [
    {
     "name": "stdout",
     "output_type": "stream",
     "text": [
      "Fibonacci sequence up to 54 terms: [0, 1, 1, 2, 3, 5, 8, 13, 21, 34, 55, 89, 144, 233, 377, 610, 987, 1597, 2584, 4181, 6765, 10946, 17711, 28657, 46368, 75025, 121393, 196418, 317811, 514229, 832040, 1346269, 2178309, 3524578, 5702887, 9227465, 14930352, 24157817, 39088169, 63245986, 102334155, 165580141, 267914296, 433494437, 701408733, 1134903170, 1836311903, 2971215073, 4807526976, 7778742049, 12586269025, 20365011074, 32951280099, 53316291173]\n"
     ]
    }
   ],
   "source": [
    "n = int(input(\"Enter the number of terms: \"))\n",
    "fib = [0, 1]\n",
    "for i in range(2, n):\n",
    "    fib.append(fib[i-1] + fib[i-2])\n",
    "\n",
    "print(f\"Fibonacci sequence up to {n} terms: {fib}\")\n"
   ]
  },
  {
   "cell_type": "markdown",
   "metadata": {},
   "source": [
    "37. Develop a program that calculates the nth term of the Fibonacci sequence using memoization.\n"
   ]
  },
  {
   "cell_type": "code",
   "execution_count": 27,
   "metadata": {},
   "outputs": [
    {
     "name": "stdout",
     "output_type": "stream",
     "text": [
      "The 3th term of the Fibonacci sequence is 2.\n"
     ]
    }
   ],
   "source": [
    "fib_cache = {}\n",
    "\n",
    "def fibonacci(n):\n",
    "    if n in fib_cache:\n",
    "        return fib_cache[n]\n",
    "    if n <= 1:\n",
    "        return n\n",
    "    fib_cache[n] = fibonacci(n-1) + fibonacci(n-2)\n",
    "    return fib_cache[n]\n",
    "\n",
    "n = int(input(\"Enter the term number to get Fibonacci value: \"))\n",
    "print(f\"The {n}th term of the Fibonacci sequence is {fibonacci(n)}.\")\n"
   ]
  },
  {
   "cell_type": "markdown",
   "metadata": {},
   "source": [
    "38. Create a program that generates a calendar for a given month and year using conditional statements.\n"
   ]
  },
  {
   "cell_type": "code",
   "execution_count": 28,
   "metadata": {},
   "outputs": [
    {
     "name": "stdout",
     "output_type": "stream",
     "text": [
      "     June 2056\n",
      "Mo Tu We Th Fr Sa Su\n",
      "          1  2  3  4\n",
      " 5  6  7  8  9 10 11\n",
      "12 13 14 15 16 17 18\n",
      "19 20 21 22 23 24 25\n",
      "26 27 28 29 30\n",
      "\n"
     ]
    }
   ],
   "source": [
    "import calendar\n",
    "\n",
    "year = int(input(\"Enter year: \"))\n",
    "month = int(input(\"Enter month: \"))\n",
    "print(calendar.month(year, month))\n"
   ]
  },
  {
   "cell_type": "markdown",
   "metadata": {},
   "source": [
    "39. Build a program that simulates a basic text-based blackjack game against the computer.\n"
   ]
  },
  {
   "cell_type": "code",
   "execution_count": 29,
   "metadata": {},
   "outputs": [
    {
     "name": "stdout",
     "output_type": "stream",
     "text": [
      "Your cards: [5, 11], current score: 16\n",
      "Computer's first card: 10\n",
      "Your cards: [5, 10, 1], current score: 16\n",
      "Computer's first card: 10\n",
      "Your cards: [5, 10, 1, 6], current score: 22\n",
      "Computer's first card: 10\n",
      "Your score exceeds 21. You lose!\n"
     ]
    }
   ],
   "source": [
    "import random\n",
    "\n",
    "def deal_card():\n",
    "    cards = [2, 3, 4, 5, 6, 7, 8, 9, 10, 10, 10, 10, 11]\n",
    "    return random.choice(cards)\n",
    "\n",
    "def calculate_score(hand):\n",
    "    if sum(hand) == 21 and len(hand) == 2:\n",
    "        return 0\n",
    "    if 11 in hand and sum(hand) > 21:\n",
    "        hand.remove(11)\n",
    "        hand.append(1)\n",
    "    return sum(hand)\n",
    "\n",
    "def blackjack():\n",
    "    user_hand = [deal_card(), deal_card()]\n",
    "    computer_hand = [deal_card(), deal_card()]\n",
    "    game_over = False\n",
    "\n",
    "    while not game_over:\n",
    "        user_score = calculate_score(user_hand)\n",
    "        computer_score = calculate_score(computer_hand)\n",
    "\n",
    "        print(f\"Your cards: {user_hand}, current score: {user_score}\")\n",
    "        print(f\"Computer's first card: {computer_hand[0]}\")\n",
    "\n",
    "        if user_score == 0:\n",
    "            print(\"Blackjack! You win!\")\n",
    "            return\n",
    "        if user_score > 21:\n",
    "            print(f\"Your score exceeds 21. You lose!\")\n",
    "            return\n",
    "\n",
    "        should_continue = input(\"Type 'y' to get another card, 'n' to pass: \").lower()\n",
    "        if should_continue == 'y':\n",
    "            user_hand.append(deal_card())\n",
    "        else:\n",
    "            game_over = True\n",
    "\n",
    "    while computer_score < 17:\n",
    "        computer_hand.append(deal_card())\n",
    "        computer_score = calculate_score(computer_hand)\n",
    "\n",
    "    print(f\"Your final hand: {user_hand}, final score: {user_score}\")\n",
    "    print(f\"Computer's final hand: {computer_hand}, final score: {computer_score}\")\n",
    "\n",
    "    if computer_score > 21:\n",
    "        print(\"Computer went over. You win!\")\n",
    "    elif user_score > computer_score:\n",
    "        print(\"You win!\")\n",
    "    elif user_score < computer_score:\n",
    "        print(\"You lose!\")\n",
    "    else:\n",
    "        print(\"It's a draw!\")\n",
    "\n",
    "blackjack()\n"
   ]
  },
  {
   "cell_type": "markdown",
   "metadata": {},
   "source": [
    "40. Write a program that generates the prime factors of a given number using trial division."
   ]
  },
  {
   "cell_type": "code",
   "execution_count": 30,
   "metadata": {},
   "outputs": [
    {
     "name": "stdout",
     "output_type": "stream",
     "text": [
      "Prime factors of 5: [5]\n"
     ]
    }
   ],
   "source": [
    "def prime_factors(n):\n",
    "    factors = []\n",
    "    i = 2\n",
    "    while i * i <= n:\n",
    "        if n % i:\n",
    "            i += 1\n",
    "        else:\n",
    "            n //= i\n",
    "            factors.append(i)\n",
    "    if n > 1:\n",
    "        factors.append(n)\n",
    "    return factors\n",
    "\n",
    "num = int(input(\"Enter a number to find its prime factors: \"))\n",
    "print(f\"Prime factors of {num}: {prime_factors(num)}\")\n"
   ]
  },
  {
   "cell_type": "code",
   "execution_count": null,
   "metadata": {},
   "outputs": [],
   "source": []
  }
 ],
 "metadata": {
  "kernelspec": {
   "display_name": "Python 3",
   "language": "python",
   "name": "python3"
  },
  "language_info": {
   "codemirror_mode": {
    "name": "ipython",
    "version": 3
   },
   "file_extension": ".py",
   "mimetype": "text/x-python",
   "name": "python",
   "nbconvert_exporter": "python",
   "pygments_lexer": "ipython3",
   "version": "3.10.4"
  }
 },
 "nbformat": 4,
 "nbformat_minor": 2
}
