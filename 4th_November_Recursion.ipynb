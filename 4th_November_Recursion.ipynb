{
 "cells": [
  {
   "cell_type": "markdown",
   "metadata": {},
   "source": [
    "# Recursion"
   ]
  },
  {
   "cell_type": "markdown",
   "metadata": {},
   "source": [
    "**Q.1 Can you explain the logic and working of the Tower of Hanoi algorithm by writing a Java program?\n",
    "How does the recursion work, and how are the movements of disks between rods accomplished?**"
   ]
  },
  {
   "cell_type": "code",
   "execution_count": 22,
   "metadata": {},
   "outputs": [
    {
     "name": "stdout",
     "output_type": "stream",
     "text": [
      "Move disk 1 from A to C\n",
      "Move disk 2 from A to B\n",
      "Move disk 1 from C to B\n",
      "Move disk 3 from A to C\n",
      "Move disk 1 from B to A\n",
      "Move disk 2 from B to C\n",
      "Move disk 1 from A to C\n"
     ]
    }
   ],
   "source": [
    "def tower_of_hanoi(n, source_rod, target_rod, auxiliary_rod):\n",
    "    if n == 1:\n",
    "        print(f\"Move disk 1 from {source_rod} to {target_rod}\")\n",
    "        return\n",
    "    tower_of_hanoi(n-1, source_rod, auxiliary_rod, target_rod)\n",
    "    print(f\"Move disk {n} from {source_rod} to {target_rod}\")\n",
    "    tower_of_hanoi(n-1, auxiliary_rod, target_rod, source_rod)\n",
    "\n",
    "# Example usage:\n",
    "number_of_disks = 3\n",
    "tower_of_hanoi(number_of_disks, 'A', 'C', 'B')\n"
   ]
  },
  {
   "cell_type": "markdown",
   "metadata": {},
   "source": [
    "**Q.2 Given two strings word1 and word2, return the minimum number of operations required to convert word1\n",
    "to word2.**"
   ]
  },
  {
   "cell_type": "code",
   "execution_count": 1,
   "metadata": {},
   "outputs": [
    {
     "name": "stdout",
     "output_type": "stream",
     "text": [
      "3\n",
      "5\n"
     ]
    }
   ],
   "source": [
    "def min_distance(word1, word2):\n",
    "    def helper(i, j):\n",
    "        # Base cases\n",
    "        if i == len(word1):\n",
    "            return len(word2) - j\n",
    "        if j == len(word2):\n",
    "            return len(word1) - i\n",
    "        \n",
    "        # If the characters are the same, no operation is needed\n",
    "        if word1[i] == word2[j]:\n",
    "            return helper(i + 1, j + 1)\n",
    "        \n",
    "        # Choose the minimum among three operations: insert, delete, or replace\n",
    "        insert_op = 1 + helper(i, j + 1)\n",
    "        delete_op = 1 + helper(i + 1, j)\n",
    "        replace_op = 1 + helper(i + 1, j + 1)\n",
    "        \n",
    "        return min(insert_op, delete_op, replace_op)\n",
    "    \n",
    "    return helper(0, 0)\n",
    "\n",
    "# Example usage:\n",
    "word1 = \"horse\"\n",
    "word2 = \"ros\"\n",
    "result = min_distance(word1, word2)\n",
    "print(result)\n",
    "\n",
    "word1 = \"intention\"\n",
    "word2 = \"execution\"\n",
    "result = min_distance(word1, word2)\n",
    "print(result)\n"
   ]
  },
  {
   "cell_type": "markdown",
   "metadata": {},
   "source": [
    "**Q. 3 Print the max value of the array [ 13, 1, -3, 22, 5].**"
   ]
  },
  {
   "cell_type": "code",
   "execution_count": 4,
   "metadata": {},
   "outputs": [
    {
     "name": "stdout",
     "output_type": "stream",
     "text": [
      "The maximum value in the array is: 22\n"
     ]
    }
   ],
   "source": [
    "def find_max(arr, n):\n",
    "    # Base case: if the array has only one element, it is the maximum\n",
    "    if n == 1:\n",
    "        return arr[0]\n",
    "    \n",
    "    # Recursive case: find the maximum of the rest of the array\n",
    "    max_of_rest = find_max(arr[1:], n - 1)\n",
    "    \n",
    "    # Compare the maximum of the rest with the first element\n",
    "    return max(arr[0], max_of_rest)\n",
    "\n",
    "# Example usage:\n",
    "arr = [13, 1, -3, 22, 5]\n",
    "max_value = find_max(arr, len(arr))\n",
    "print(\"The maximum value in the array is:\", max_value)\n"
   ]
  },
  {
   "cell_type": "markdown",
   "metadata": {},
   "source": [
    "**Q.4 Find the sum of the values of the array [92, 23, 15, -20, 10].**"
   ]
  },
  {
   "cell_type": "code",
   "execution_count": 9,
   "metadata": {},
   "outputs": [
    {
     "name": "stdout",
     "output_type": "stream",
     "text": [
      "The sum of the values of the arra is: 120\n"
     ]
    }
   ],
   "source": [
    "def array_sum(arr, n):\n",
    "    # Base case: if the array has only one element, it is the total sum\n",
    "    if n == 1:\n",
    "        return arr[0]\n",
    "    \n",
    "    element = find_max(arr[1:], n - 1)\n",
    "    \n",
    "    # Adding the array elements\n",
    "    return arr[0] + element\n",
    "\n",
    "# Example usage:\n",
    "arr = [92,23,15,-20,10]\n",
    "Sum_of_Values = find_max(arr, len(arr))\n",
    "print(\"The sum of the values of the arra is:\", Sum_of_Values)\n"
   ]
  },
  {
   "cell_type": "markdown",
   "metadata": {},
   "source": [
    "**Q.5 Given a number n. Print if it is an armstrong number or not.An armstrong number is a number if the sum\n",
    "of every digit in that number raised to the power of total digits in that number is equal to the number.**"
   ]
  },
  {
   "cell_type": "code",
   "execution_count": 21,
   "metadata": {},
   "outputs": [
    {
     "name": "stdout",
     "output_type": "stream",
     "text": [
      "Input: 153\n",
      "Output: Yes\n",
      "Input: 134\n",
      "Output: No\n"
     ]
    }
   ],
   "source": [
    "def count_digits(n):\n",
    "    # Base case: when there is only one digit\n",
    "    if n < 10:\n",
    "        return 1\n",
    "    # Recursive case: count digits in the remaining part of the number\n",
    "    return 1 + count_digits(n // 10)\n",
    "\n",
    "def is_armstrong(n):\n",
    "    def armstrong_helper(n, total_digits):\n",
    "        # Base case: when there is only one digit\n",
    "        if n < 10:\n",
    "            return n ** total_digits\n",
    "        # Recursive case: calculate sum of digits raised to the power of total_digits\n",
    "        return (n % 10) ** total_digits + armstrong_helper(n // 10, total_digits)\n",
    "\n",
    "    total_digits = count_digits(n)\n",
    "    return n == armstrong_helper(n, total_digits)\n",
    "\n",
    "# Example usage:\n",
    "input_number1 = 153\n",
    "output1 = \"Yes\" if is_armstrong(input_number1) else \"No\"\n",
    "print(f\"Input: {input_number1}\\nOutput: {output1}\")\n",
    "\n",
    "input_number2 = 134\n",
    "output2 = \"Yes\" if is_armstrong(input_number2) else \"No\"\n",
    "print(f\"Input: {input_number2}\\nOutput: {output2}\")\n"
   ]
  },
  {
   "cell_type": "code",
   "execution_count": null,
   "metadata": {},
   "outputs": [],
   "source": []
  }
 ],
 "metadata": {
  "kernelspec": {
   "display_name": "Python 3",
   "language": "python",
   "name": "python3"
  },
  "language_info": {
   "codemirror_mode": {
    "name": "ipython",
    "version": 3
   },
   "file_extension": ".py",
   "mimetype": "text/x-python",
   "name": "python",
   "nbconvert_exporter": "python",
   "pygments_lexer": "ipython3",
   "version": "3.10.4"
  }
 },
 "nbformat": 4,
 "nbformat_minor": 2
}
