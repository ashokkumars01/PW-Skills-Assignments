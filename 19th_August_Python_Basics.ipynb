{
 "cells": [
  {
   "cell_type": "markdown",
   "metadata": {},
   "source": [
    "# Python Basics"
   ]
  },
  {
   "cell_type": "markdown",
   "metadata": {},
   "source": [
    "### Topic: Python Basics Variable"
   ]
  },
  {
   "cell_type": "markdown",
   "metadata": {},
   "source": [
    "**1. Declare two variables, `x` and `y`, and assign them integer values. Swap the values of these variables without using any temporary variable.**"
   ]
  },
  {
   "cell_type": "code",
   "execution_count": 2,
   "metadata": {},
   "outputs": [
    {
     "name": "stdout",
     "output_type": "stream",
     "text": [
      "Before Swapping the values of variables\n",
      "x =  45\n",
      "y =  98\n",
      "After swapping values of variables\n",
      "x =  98\n",
      "y =  45\n"
     ]
    }
   ],
   "source": [
    "# Variable 1\n",
    "x = 45\n",
    "# Variable 2\n",
    "y = 98\n",
    "\n",
    "print(\"Before Swapping the values of variables\")\n",
    "print(\"x = \", x)\n",
    "print(\"y = \", y)\n",
    "\n",
    "x, y = y, x\n",
    "\n",
    "print(\"After swapping values of variables\")\n",
    "print(\"x = \", x)\n",
    "print(\"y = \", y)"
   ]
  },
  {
   "cell_type": "markdown",
   "metadata": {},
   "source": [
    "**2. Create a program that calculates the area of a rectangle. Take the length and width as inputs from the user and store them in variables. Calculate and display the area.**"
   ]
  },
  {
   "cell_type": "code",
   "execution_count": 4,
   "metadata": {},
   "outputs": [
    {
     "name": "stdout",
     "output_type": "stream",
     "text": [
      "Length =  12.0\n",
      "Width =  5.5\n",
      "The area of the rectangle is: 66.0\n"
     ]
    }
   ],
   "source": [
    "# Input from the user\n",
    "length = float(input(\"Enter the length of the rectangle: \"))\n",
    "width = float(input(\"Enter the width of the rectangle: \"))\n",
    "\n",
    "print(\"Length = \", length)\n",
    "print(\"Width = \", width)\n",
    "\n",
    "# Calculate the area of the rectangle\n",
    "area = length * width\n",
    "\n",
    "# Display the result\n",
    "print(\"The area of the rectangle is:\", area)"
   ]
  },
  {
   "cell_type": "markdown",
   "metadata": {},
   "source": [
    "**3. Write a Python program that converts temperatures from Celsius to Fahrenheit. Take the temperature in Celsius as input, store it in a variable, convert it to Fahrenheit, and display the result.**"
   ]
  },
  {
   "cell_type": "code",
   "execution_count": 5,
   "metadata": {},
   "outputs": [
    {
     "name": "stdout",
     "output_type": "stream",
     "text": [
      "Celsius =  37.0\n",
      "37.0 degrees Celsius is equal to 98.6 degrees Fahrenheit\n"
     ]
    }
   ],
   "source": [
    "# Input from the user\n",
    "celsius = float(input(\"Enter the temperature in Celsius: \"))\n",
    "\n",
    "print(\"Celsius = \", celsius)\n",
    "\n",
    "# Convert to Fahrenheit\n",
    "fahrenheit = (celsius * 9/5) + 32\n",
    "\n",
    "# Display the result\n",
    "print(f\"{celsius} degrees Celsius is equal to {fahrenheit} degrees Fahrenheit\")\n"
   ]
  },
  {
   "cell_type": "markdown",
   "metadata": {},
   "source": [
    "### Topic: String Based Questions"
   ]
  },
  {
   "cell_type": "markdown",
   "metadata": {},
   "source": [
    "**1. Write a Python program that takes a string as input and prints the length of the string.**"
   ]
  },
  {
   "cell_type": "markdown",
   "metadata": {},
   "source": [
    "#### Method 1"
   ]
  },
  {
   "cell_type": "code",
   "execution_count": 7,
   "metadata": {},
   "outputs": [
    {
     "name": "stdout",
     "output_type": "stream",
     "text": [
      "Entered String:  PW Skills\n",
      "The length of the string is: 9\n"
     ]
    }
   ],
   "source": [
    "# Input from the user\n",
    "String = input(\"Enter a string: \")\n",
    "\n",
    "print(\"Entered String: \", String)\n",
    "\n",
    "# Calculate the length of the string\n",
    "str_len = len(String)\n",
    "\n",
    "# Display the length\n",
    "print(f\"The length of the string is: {str_len}\")\n"
   ]
  },
  {
   "cell_type": "markdown",
   "metadata": {},
   "source": [
    "#### Method 2"
   ]
  },
  {
   "cell_type": "code",
   "execution_count": 8,
   "metadata": {},
   "outputs": [
    {
     "name": "stdout",
     "output_type": "stream",
     "text": [
      "Entered String:  PW Skills\n",
      "The length of the string is: 9\n"
     ]
    }
   ],
   "source": [
    "# Input from the user\n",
    "String = input(\"Enter a string: \")\n",
    "\n",
    "print(\"Entered String: \", String)\n",
    "\n",
    "# Calculate the length of the string\n",
    "str_len = 0\n",
    "for i in String:\n",
    "    str_len +=1\n",
    "    \n",
    "# Display the length\n",
    "print(f\"The length of the string is: {str_len}\")"
   ]
  },
  {
   "cell_type": "markdown",
   "metadata": {},
   "source": [
    "**2. Create a program that takes a sentence from the user and counts the number of vowels (a, e, i, o, u) in the string.**"
   ]
  },
  {
   "cell_type": "code",
   "execution_count": 9,
   "metadata": {},
   "outputs": [
    {
     "name": "stdout",
     "output_type": "stream",
     "text": [
      "Entered Sentence:  Hello India\n",
      "The number of vowels in the sentence is: 5\n"
     ]
    }
   ],
   "source": [
    "# Input from the user\n",
    "sentence = input(\"Enter a sentence: \")\n",
    "\n",
    "print(\"Entered Sentence: \", sentence)\n",
    "\n",
    "# Convert the sentence to lowercase\n",
    "sentence = sentence.lower()\n",
    "\n",
    "# Initialize a variable to count the vowels\n",
    "vowel_count = 0\n",
    "\n",
    "# Iterate through each character in the sentence\n",
    "for i in sentence:\n",
    "    if i in \"aeiou\":\n",
    "        vowel_count += 1\n",
    "\n",
    "# Display the count of vowels\n",
    "print(f\"The number of vowels in the sentence is: {vowel_count}\")\n"
   ]
  },
  {
   "cell_type": "markdown",
   "metadata": {},
   "source": [
    "**3. Given a string, reverse the order of characters using string slicing and print the reversed string.**"
   ]
  },
  {
   "cell_type": "code",
   "execution_count": 1,
   "metadata": {},
   "outputs": [
    {
     "name": "stdout",
     "output_type": "stream",
     "text": [
      "Entered String:  Hello World\n",
      "Reversed string: dlroW olleH\n"
     ]
    }
   ],
   "source": [
    "# Input from the user\n",
    "String = input(\"Enter a string: \")\n",
    "\n",
    "print(\"Entered String: \", String)\n",
    "\n",
    "# Reverse the string using slicing\n",
    "reversed_string = String[::-1]\n",
    "\n",
    "# Display the reversed string\n",
    "print(\"Reversed string:\", reversed_string)\n"
   ]
  },
  {
   "cell_type": "markdown",
   "metadata": {},
   "source": [
    "**4. Write a program that takes a string as input and checks if it is a palindrome (reads the same forwards and backwards).**"
   ]
  },
  {
   "cell_type": "code",
   "execution_count": 2,
   "metadata": {},
   "outputs": [
    {
     "name": "stdout",
     "output_type": "stream",
     "text": [
      "Entered String:  madam\n",
      "The string is a palindrome.\n"
     ]
    }
   ],
   "source": [
    "# Input from the user\n",
    "String = input(\"Enter a string: \")\n",
    "\n",
    "print(\"Entered String: \", String)\n",
    "\n",
    "# Check if the string is a palindrome\n",
    "if String == String[::-1]:\n",
    "    print(\"The string is a palindrome.\")\n",
    "else:\n",
    "    print(\"The string is not a palindrome.\")\n"
   ]
  },
  {
   "cell_type": "code",
   "execution_count": 3,
   "metadata": {},
   "outputs": [
    {
     "name": "stdout",
     "output_type": "stream",
     "text": [
      "Entered String:  Hal laH\n",
      "The string is a palindrome.\n"
     ]
    }
   ],
   "source": [
    "# Input from the user\n",
    "String = input(\"Enter a string: \")\n",
    "\n",
    "print(\"Entered String: \", String)\n",
    "\n",
    "# Check if the string is a palindrome\n",
    "if String == String[::-1]:\n",
    "    print(\"The string is a palindrome.\")\n",
    "else:\n",
    "    print(\"The string is not a palindrome.\")\n"
   ]
  },
  {
   "cell_type": "code",
   "execution_count": 4,
   "metadata": {},
   "outputs": [
    {
     "name": "stdout",
     "output_type": "stream",
     "text": [
      "Entered String:  Hello\n",
      "The string is not a palindrome.\n"
     ]
    }
   ],
   "source": [
    "# Input from the user\n",
    "String = input(\"Enter a string: \")\n",
    "\n",
    "print(\"Entered String: \", String)\n",
    "\n",
    "# Check if the string is a palindrome\n",
    "if String == String[::-1]:\n",
    "    print(\"The string is a palindrome.\")\n",
    "else:\n",
    "    print(\"The string is not a palindrome.\")\n"
   ]
  },
  {
   "cell_type": "markdown",
   "metadata": {},
   "source": [
    "**5. Create a program that takes a string as input and removes all the spaces from it. Print the modified string without spaces.**"
   ]
  },
  {
   "cell_type": "code",
   "execution_count": 5,
   "metadata": {},
   "outputs": [
    {
     "name": "stdout",
     "output_type": "stream",
     "text": [
      "Entered String:  Hello All Have a good day\n",
      "Modified string without spaces: HelloAllHaveagoodday\n"
     ]
    }
   ],
   "source": [
    "# Input from the user\n",
    "String = input(\"Enter a string: \")\n",
    "\n",
    "print(\"Entered String: \", String)\n",
    "\n",
    "# Remove spaces from the string\n",
    "string_without_spaces = String.replace(\" \", \"\")\n",
    "\n",
    "# Display the modified string\n",
    "print(\"Modified string without spaces:\", string_without_spaces)\n"
   ]
  },
  {
   "cell_type": "code",
   "execution_count": null,
   "metadata": {},
   "outputs": [],
   "source": []
  }
 ],
 "metadata": {
  "kernelspec": {
   "display_name": "Python 3",
   "language": "python",
   "name": "python3"
  },
  "language_info": {
   "codemirror_mode": {
    "name": "ipython",
    "version": 3
   },
   "file_extension": ".py",
   "mimetype": "text/x-python",
   "name": "python",
   "nbconvert_exporter": "python",
   "pygments_lexer": "ipython3",
   "version": "3.11.4"
  }
 },
 "nbformat": 4,
 "nbformat_minor": 2
}
