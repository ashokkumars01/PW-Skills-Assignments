{
 "cells": [
  {
   "cell_type": "markdown",
   "metadata": {},
   "source": [
    "\n",
    "# Arrays"
   ]
  },
  {
   "cell_type": "markdown",
   "metadata": {},
   "source": [
    "**1. Given an array, check if it contains any duplicates or not.**\n",
    "\n",
    "**arr = [1, 2, 4, 2, 5, 9]**\n",
    "\n",
    "**Output = True**"
   ]
  },
  {
   "cell_type": "code",
   "execution_count": 4,
   "metadata": {},
   "outputs": [
    {
     "name": "stdout",
     "output_type": "stream",
     "text": [
      "True\n",
      "False\n"
     ]
    }
   ],
   "source": [
    "def check_duplicates(arr):\n",
    "    S = set()\n",
    "    # Logic for cheking duplicates\n",
    "    for i in arr:\n",
    "        # If duplicate elements are found, it returns True\n",
    "        if i in S:\n",
    "            return True\n",
    "        else:\n",
    "            S.add(i)\n",
    "    # Duplicate elements are not found, then it returns False\n",
    "    return False\n",
    "\n",
    "arr = [1,2,4,2,5,9]\n",
    "print(check_duplicates(arr))\n",
    "\n",
    "arr1 = [1,2,3,4,10,45]\n",
    "print(check_duplicates(arr1))"
   ]
  },
  {
   "cell_type": "markdown",
   "metadata": {},
   "source": [
    "**2. Given an array and an integer k, rotate the array to the right by k steps.**\n",
    "\n",
    "**arr = [1, 2, 3, 4, 5, 6, 7] k = 3**\n",
    "\n",
    "**Output = [5, 6, 7, 1, 2, 3, 4]**"
   ]
  },
  {
   "cell_type": "code",
   "execution_count": 5,
   "metadata": {},
   "outputs": [
    {
     "name": "stdout",
     "output_type": "stream",
     "text": [
      "[5, 6, 7, 1, 2, 3, 4]\n"
     ]
    }
   ],
   "source": [
    "def rotate_array(arr, k):\n",
    "    k = k % len(arr)\n",
    "\n",
    "    # Array rotation by K times\n",
    "    for i in range(k):\n",
    "        prev = arr[0]\n",
    "        curr = arr[0]\n",
    "        arr[0] = arr[len(arr)-1]\n",
    "        for j in range(1, len(arr)):\n",
    "            curr = arr[j]\n",
    "            arr[j] = prev\n",
    "            prev = curr\n",
    "\n",
    "    return arr\n",
    "\n",
    "arr = [1,2,3,4,5,6,7]\n",
    "k = 3\n",
    "print(rotate_array(arr, k))"
   ]
  },
  {
   "cell_type": "markdown",
   "metadata": {},
   "source": [
    "**3. Reverse the given array in-place, means without using any extra data structure.**\n",
    "\n",
    "**arr = [2, 4, 5, 7, 9, 12]**\n",
    "\n",
    "**Output = [12, 9, 7, 5, 4, 2]**"
   ]
  },
  {
   "cell_type": "code",
   "execution_count": 12,
   "metadata": {},
   "outputs": [
    {
     "name": "stdout",
     "output_type": "stream",
     "text": [
      "[12, 9, 7, 5, 4, 2]\n"
     ]
    }
   ],
   "source": [
    "def reverse_array(arr, l, r):\n",
    "\n",
    "    # Reversing the array using recurssion\n",
    "    if l > r:\n",
    "        return\n",
    "    else:\n",
    "        arr[l], arr[r] = arr[r], arr[l]\n",
    "        reverse_array(arr,l+1, r-1)\n",
    "\n",
    "\n",
    "arr = [2,4,5,7,9,12]\n",
    "l = 0\n",
    "r = len(arr)-1\n",
    "reverse_array(arr, l, r)\n",
    "print(arr)\n"
   ]
  },
  {
   "cell_type": "markdown",
   "metadata": {},
   "source": [
    "**4. Given an array of integers, find the maximum element in an array**\n",
    "\n",
    "**arr = [10, 5, 20, 8, 15]**\n",
    "\n",
    "**Output = 20**"
   ]
  },
  {
   "cell_type": "code",
   "execution_count": 22,
   "metadata": {},
   "outputs": [
    {
     "name": "stdout",
     "output_type": "stream",
     "text": [
      "20\n",
      "15589\n"
     ]
    }
   ],
   "source": [
    "def find_max_element(arr):\n",
    "    res = 0\n",
    "\n",
    "    # Finding the maximum element in the given array\n",
    "    for i in arr:\n",
    "        if i > res:\n",
    "            res = i\n",
    "    return res \n",
    "\n",
    "arr = [10,5,20,8,15]\n",
    "print(find_max_element(arr))\n",
    "\n",
    "arr1 = [10,5,2020,8,15589]\n",
    "print(find_max_element(arr1))"
   ]
  },
  {
   "cell_type": "markdown",
   "metadata": {},
   "source": [
    "**5. Given a sorted array, remove the duplicate element without using any extra data structure.**\n",
    "\n",
    "**arr = [1, 1, 2, 2, 2, 3, 3, 4, 4, 4, 5, 5]**\n",
    "\n",
    "**Output = [1, 2, 3, 4, 5]**"
   ]
  },
  {
   "cell_type": "code",
   "execution_count": 23,
   "metadata": {},
   "outputs": [
    {
     "name": "stdout",
     "output_type": "stream",
     "text": [
      "[1, 2, 3, 4, 5]\n"
     ]
    }
   ],
   "source": [
    "def remove_duplicates(arr):\n",
    "    if not arr:\n",
    "        return 0  # Empty array has no duplicates\n",
    "\n",
    "    ui = 0  # Index to keep track of the unique elements\n",
    "\n",
    "    for i in range(1, len(arr)):\n",
    "        if arr[i] != arr[ui]:\n",
    "            ui += 1\n",
    "            arr[ui] = arr[i]\n",
    "\n",
    "    return ui + 1  # Length of the array with unique elements\n",
    "\n",
    "arr = [1, 1, 2, 2, 2, 3, 3, 4, 4, 4, 5, 5]\n",
    "new_length = remove_duplicates(arr)\n",
    "\n",
    "# Output the unique elements\n",
    "unique_elements = arr[:new_length]\n",
    "print(unique_elements)\n"
   ]
  },
  {
   "cell_type": "code",
   "execution_count": null,
   "metadata": {},
   "outputs": [],
   "source": []
  }
 ],
 "metadata": {
  "kernelspec": {
   "display_name": "Python 3",
   "language": "python",
   "name": "python3"
  },
  "language_info": {
   "codemirror_mode": {
    "name": "ipython",
    "version": 3
   },
   "file_extension": ".py",
   "mimetype": "text/x-python",
   "name": "python",
   "nbconvert_exporter": "python",
   "pygments_lexer": "ipython3",
   "version": "3.10.4"
  }
 },
 "nbformat": 4,
 "nbformat_minor": 2
}
