{
 "cells": [
  {
   "cell_type": "markdown",
   "metadata": {},
   "source": [
    "# For Loop"
   ]
  },
  {
   "cell_type": "markdown",
   "metadata": {},
   "source": [
    "**Basic Level:**"
   ]
  },
  {
   "cell_type": "markdown",
   "metadata": {},
   "source": [
    "1. Write a Python program to print the numbers from 1 to 10 using a `for` loop."
   ]
  },
  {
   "cell_type": "code",
   "execution_count": 1,
   "metadata": {},
   "outputs": [
    {
     "name": "stdout",
     "output_type": "stream",
     "text": [
      "1\n",
      "2\n",
      "3\n",
      "4\n",
      "5\n",
      "6\n",
      "7\n",
      "8\n",
      "9\n",
      "10\n"
     ]
    }
   ],
   "source": [
    "for i in range(1, 11):\n",
    "    print(i)\n"
   ]
  },
  {
   "cell_type": "markdown",
   "metadata": {},
   "source": [
    "2. Create a program that calculates the sum of all numbers in a list using a `for` loop."
   ]
  },
  {
   "cell_type": "code",
   "execution_count": 2,
   "metadata": {},
   "outputs": [
    {
     "name": "stdout",
     "output_type": "stream",
     "text": [
      "15\n"
     ]
    }
   ],
   "source": [
    "numbers = [1, 2, 3, 4, 5]\n",
    "total = 0\n",
    "for num in numbers:\n",
    "    total += num\n",
    "print(total)\n"
   ]
  },
  {
   "cell_type": "markdown",
   "metadata": {},
   "source": [
    "3. Write a program to print the characters of a string in reverse order using a `for` loop."
   ]
  },
  {
   "cell_type": "code",
   "execution_count": 3,
   "metadata": {},
   "outputs": [
    {
     "name": "stdout",
     "output_type": "stream",
     "text": [
      "olleH"
     ]
    }
   ],
   "source": [
    "string = \"Hello\"\n",
    "for i in range(len(string)-1, -1, -1):\n",
    "    print(string[i], end=\"\")\n"
   ]
  },
  {
   "cell_type": "markdown",
   "metadata": {},
   "source": [
    "4. Develop a program that finds the factorial of a given number using a `for` loop."
   ]
  },
  {
   "cell_type": "code",
   "execution_count": 4,
   "metadata": {},
   "outputs": [
    {
     "name": "stdout",
     "output_type": "stream",
     "text": [
      "120\n"
     ]
    }
   ],
   "source": [
    "num = 5\n",
    "factorial = 1\n",
    "for i in range(1, num + 1):\n",
    "    factorial *= i\n",
    "print(factorial)\n"
   ]
  },
  {
   "cell_type": "markdown",
   "metadata": {},
   "source": [
    "5. Create a program to print the multiplication table of a given number using a `for` loop."
   ]
  },
  {
   "cell_type": "code",
   "execution_count": 5,
   "metadata": {},
   "outputs": [
    {
     "name": "stdout",
     "output_type": "stream",
     "text": [
      "7 x 1 = 7\n",
      "7 x 2 = 14\n",
      "7 x 3 = 21\n",
      "7 x 4 = 28\n",
      "7 x 5 = 35\n",
      "7 x 6 = 42\n",
      "7 x 7 = 49\n",
      "7 x 8 = 56\n",
      "7 x 9 = 63\n",
      "7 x 10 = 70\n"
     ]
    }
   ],
   "source": [
    "number = 7\n",
    "for i in range(1, 11):\n",
    "    print(f\"{number} x {i} = {number*i}\")\n"
   ]
  },
  {
   "cell_type": "markdown",
   "metadata": {},
   "source": [
    "6. Write a program that counts the number of even and odd numbers in a list using a `for` loop."
   ]
  },
  {
   "cell_type": "code",
   "execution_count": 6,
   "metadata": {},
   "outputs": [
    {
     "name": "stdout",
     "output_type": "stream",
     "text": [
      "Even: 3 Odd: 4\n"
     ]
    }
   ],
   "source": [
    "numbers = [1, 2, 3, 4, 5, 6, 7]\n",
    "even_count = 0\n",
    "odd_count = 0\n",
    "for num in numbers:\n",
    "    if num % 2 == 0:\n",
    "        even_count += 1\n",
    "    else:\n",
    "        odd_count += 1\n",
    "print(\"Even:\", even_count, \"Odd:\", odd_count)\n"
   ]
  },
  {
   "cell_type": "markdown",
   "metadata": {},
   "source": [
    "7. Develop a program that prints the squares of numbers from 1 to 5 using a `for` loop."
   ]
  },
  {
   "cell_type": "code",
   "execution_count": 7,
   "metadata": {},
   "outputs": [
    {
     "name": "stdout",
     "output_type": "stream",
     "text": [
      "1\n",
      "4\n",
      "9\n",
      "16\n",
      "25\n"
     ]
    }
   ],
   "source": [
    "for i in range(1, 6):\n",
    "    print(i ** 2)\n"
   ]
  },
  {
   "cell_type": "markdown",
   "metadata": {},
   "source": [
    "8. Create a program to find the length of a string without using the `len()` function."
   ]
  },
  {
   "cell_type": "code",
   "execution_count": 8,
   "metadata": {},
   "outputs": [
    {
     "name": "stdout",
     "output_type": "stream",
     "text": [
      "5\n"
     ]
    }
   ],
   "source": [
    "string = \"Hello\"\n",
    "count = 0\n",
    "for char in string:\n",
    "    count += 1\n",
    "print(count)\n"
   ]
  },
  {
   "cell_type": "markdown",
   "metadata": {},
   "source": [
    "9. Write a program that calculates the average of a list of numbers using a `for` loop."
   ]
  },
  {
   "cell_type": "code",
   "execution_count": 9,
   "metadata": {},
   "outputs": [
    {
     "name": "stdout",
     "output_type": "stream",
     "text": [
      "30.0\n"
     ]
    }
   ],
   "source": [
    "numbers = [10, 20, 30, 40, 50]\n",
    "total = 0\n",
    "for num in numbers:\n",
    "    total += num\n",
    "average = total / len(numbers)\n",
    "print(average)\n"
   ]
  },
  {
   "cell_type": "markdown",
   "metadata": {},
   "source": [
    "10. Develop a program that prints the first `n` Fibonacci numbers using a `for` loop."
   ]
  },
  {
   "cell_type": "code",
   "execution_count": 10,
   "metadata": {},
   "outputs": [
    {
     "name": "stdout",
     "output_type": "stream",
     "text": [
      "0 1 1 2 3 5 8 13 21 34 "
     ]
    }
   ],
   "source": [
    "n = 10\n",
    "a, b = 0, 1\n",
    "for i in range(n):\n",
    "    print(a, end=\" \")\n",
    "    a, b = b, a + b\n"
   ]
  },
  {
   "cell_type": "markdown",
   "metadata": {},
   "source": [
    "**Intermediate Level:**"
   ]
  },
  {
   "cell_type": "markdown",
   "metadata": {},
   "source": [
    "11. Write a program to check if a given list contains any duplicates using a `for` loop."
   ]
  },
  {
   "cell_type": "code",
   "execution_count": 11,
   "metadata": {},
   "outputs": [
    {
     "name": "stdout",
     "output_type": "stream",
     "text": [
      "Duplicates present: True\n"
     ]
    }
   ],
   "source": [
    "numbers = [1, 2, 3, 4, 5, 5]\n",
    "seen = set()\n",
    "has_duplicates = False\n",
    "for num in numbers:\n",
    "    if num in seen:\n",
    "        has_duplicates = True\n",
    "        break\n",
    "    seen.add(num)\n",
    "print(\"Duplicates present:\", has_duplicates)\n"
   ]
  },
  {
   "cell_type": "markdown",
   "metadata": {},
   "source": [
    "12. Create a program that prints the prime numbers in a given range using a `for` loop."
   ]
  },
  {
   "cell_type": "code",
   "execution_count": 12,
   "metadata": {},
   "outputs": [
    {
     "name": "stdout",
     "output_type": "stream",
     "text": [
      "11\n",
      "13\n",
      "17\n",
      "19\n",
      "23\n",
      "29\n",
      "31\n",
      "37\n",
      "41\n",
      "43\n",
      "47\n"
     ]
    }
   ],
   "source": [
    "start, end = 10, 50\n",
    "for num in range(start, end + 1):\n",
    "    if num > 1:\n",
    "        for i in range(2, int(num ** 0.5) + 1):\n",
    "            if num % i == 0:\n",
    "                break\n",
    "        else:\n",
    "            print(num)\n"
   ]
  },
  {
   "cell_type": "markdown",
   "metadata": {},
   "source": [
    "13. Develop a program that counts the number of vowels in a string using a `for` loop."
   ]
  },
  {
   "cell_type": "code",
   "execution_count": 13,
   "metadata": {},
   "outputs": [
    {
     "name": "stdout",
     "output_type": "stream",
     "text": [
      "3\n"
     ]
    }
   ],
   "source": [
    "string = \"Hello World\"\n",
    "vowels = \"aeiou\"\n",
    "count = 0\n",
    "for char in string:\n",
    "    if char.lower() in vowels:\n",
    "        count += 1\n",
    "print(count)\n"
   ]
  },
  {
   "cell_type": "markdown",
   "metadata": {},
   "source": [
    "14. Write a program to find the maximum element in a 2D list using a nested `for` loop."
   ]
  },
  {
   "cell_type": "code",
   "execution_count": 14,
   "metadata": {},
   "outputs": [
    {
     "name": "stdout",
     "output_type": "stream",
     "text": [
      "9\n"
     ]
    }
   ],
   "source": [
    "matrix = [[1, 2, 3], [4, 5, 6], [7, 8, 9]]\n",
    "max_value = matrix[0][0]\n",
    "for row in matrix:\n",
    "    for elem in row:\n",
    "        if elem > max_value:\n",
    "            max_value = elem\n",
    "print(max_value)\n"
   ]
  },
  {
   "cell_type": "markdown",
   "metadata": {},
   "source": [
    "15. Create a program that removes all occurrences of a specific element from a list using a `for` loop."
   ]
  },
  {
   "cell_type": "code",
   "execution_count": 15,
   "metadata": {},
   "outputs": [
    {
     "name": "stdout",
     "output_type": "stream",
     "text": [
      "[1, 3, 4, 5, 6]\n"
     ]
    }
   ],
   "source": [
    "numbers = [1, 2, 3, 4, 5, 2, 6]\n",
    "element_to_remove = 2\n",
    "new_list = []\n",
    "for num in numbers:\n",
    "    if num != element_to_remove:\n",
    "        new_list.append(num)\n",
    "print(new_list)\n"
   ]
  },
  {
   "cell_type": "markdown",
   "metadata": {},
   "source": [
    "16. Develop a program that generates a multiplication table for numbers from 1 to 5 using a nested `for` loop."
   ]
  },
  {
   "cell_type": "code",
   "execution_count": 16,
   "metadata": {},
   "outputs": [
    {
     "name": "stdout",
     "output_type": "stream",
     "text": [
      "1 x 1 = 1\n",
      "1 x 2 = 2\n",
      "1 x 3 = 3\n",
      "1 x 4 = 4\n",
      "1 x 5 = 5\n",
      "1 x 6 = 6\n",
      "1 x 7 = 7\n",
      "1 x 8 = 8\n",
      "1 x 9 = 9\n",
      "1 x 10 = 10\n",
      "2 x 1 = 2\n",
      "2 x 2 = 4\n",
      "2 x 3 = 6\n",
      "2 x 4 = 8\n",
      "2 x 5 = 10\n",
      "2 x 6 = 12\n",
      "2 x 7 = 14\n",
      "2 x 8 = 16\n",
      "2 x 9 = 18\n",
      "2 x 10 = 20\n",
      "3 x 1 = 3\n",
      "3 x 2 = 6\n",
      "3 x 3 = 9\n",
      "3 x 4 = 12\n",
      "3 x 5 = 15\n",
      "3 x 6 = 18\n",
      "3 x 7 = 21\n",
      "3 x 8 = 24\n",
      "3 x 9 = 27\n",
      "3 x 10 = 30\n",
      "4 x 1 = 4\n",
      "4 x 2 = 8\n",
      "4 x 3 = 12\n",
      "4 x 4 = 16\n",
      "4 x 5 = 20\n",
      "4 x 6 = 24\n",
      "4 x 7 = 28\n",
      "4 x 8 = 32\n",
      "4 x 9 = 36\n",
      "4 x 10 = 40\n",
      "5 x 1 = 5\n",
      "5 x 2 = 10\n",
      "5 x 3 = 15\n",
      "5 x 4 = 20\n",
      "5 x 5 = 25\n",
      "5 x 6 = 30\n",
      "5 x 7 = 35\n",
      "5 x 8 = 40\n",
      "5 x 9 = 45\n",
      "5 x 10 = 50\n"
     ]
    }
   ],
   "source": [
    "for i in range(1, 6):\n",
    "    for j in range(1, 11):\n",
    "        print(f\"{i} x {j} = {i*j}\")\n"
   ]
  },
  {
   "cell_type": "markdown",
   "metadata": {},
   "source": [
    "17. Write a program that converts a list of Fahrenheit temperatures to Celsius using a `for` loop."
   ]
  },
  {
   "cell_type": "code",
   "execution_count": 17,
   "metadata": {},
   "outputs": [
    {
     "name": "stdout",
     "output_type": "stream",
     "text": [
      "[0.0, 7.222222222222222, 10.0, 15.555555555555555]\n"
     ]
    }
   ],
   "source": [
    "fahrenheit = [32, 45, 50, 60]\n",
    "celsius = []\n",
    "for temp in fahrenheit:\n",
    "    celsius.append((temp - 32) * 5/9)\n",
    "print(celsius)\n"
   ]
  },
  {
   "cell_type": "markdown",
   "metadata": {},
   "source": [
    "18. Create a program to print the common elements from two lists using a `for` loop."
   ]
  },
  {
   "cell_type": "code",
   "execution_count": 18,
   "metadata": {},
   "outputs": [
    {
     "name": "stdout",
     "output_type": "stream",
     "text": [
      "[3, 4]\n"
     ]
    }
   ],
   "source": [
    "list1 = [1, 2, 3, 4]\n",
    "list2 = [3, 4, 5, 6]\n",
    "common_elements = []\n",
    "for item in list1:\n",
    "    if item in list2:\n",
    "        common_elements.append(item)\n",
    "print(common_elements)\n"
   ]
  },
  {
   "cell_type": "markdown",
   "metadata": {},
   "source": [
    "19. Develop a program that prints the pattern of right-angled triangles using a `for` loop. Use ‘*’ to draw the\n",
    "pattern"
   ]
  },
  {
   "cell_type": "code",
   "execution_count": 19,
   "metadata": {},
   "outputs": [
    {
     "name": "stdout",
     "output_type": "stream",
     "text": [
      "*\n",
      "**\n",
      "***\n",
      "****\n",
      "*****\n"
     ]
    }
   ],
   "source": [
    "rows = 5\n",
    "for i in range(1, rows + 1):\n",
    "    print('*' * i)\n"
   ]
  },
  {
   "cell_type": "markdown",
   "metadata": {},
   "source": [
    "20. Write a program to find the greatest common divisor (GCD) of two numbers using a `for` loop."
   ]
  },
  {
   "cell_type": "code",
   "execution_count": 20,
   "metadata": {},
   "outputs": [
    {
     "name": "stdout",
     "output_type": "stream",
     "text": [
      "12\n"
     ]
    }
   ],
   "source": [
    "a, b = 36, 60\n",
    "for i in range(min(a, b), 0, -1):\n",
    "    if a % i == 0 and b % i == 0:\n",
    "        print(i)\n",
    "        break\n"
   ]
  },
  {
   "cell_type": "markdown",
   "metadata": {},
   "source": [
    "**Advanced Level:**"
   ]
  },
  {
   "cell_type": "markdown",
   "metadata": {},
   "source": [
    "21. Create a program that calculates the sum of the digits of numbers in a list using a list comprehension."
   ]
  },
  {
   "cell_type": "code",
   "execution_count": 21,
   "metadata": {},
   "outputs": [
    {
     "name": "stdout",
     "output_type": "stream",
     "text": [
      "[6, 15, 24]\n"
     ]
    }
   ],
   "source": [
    "numbers = [123, 456, 789]\n",
    "digit_sum = [sum(int(digit) for digit in str(num)) for num in numbers]\n",
    "print(digit_sum)\n"
   ]
  },
  {
   "cell_type": "markdown",
   "metadata": {},
   "source": [
    "22. Write a program to find the prime factors of a given number using a `for` loop and list comprehension."
   ]
  },
  {
   "cell_type": "code",
   "execution_count": 22,
   "metadata": {},
   "outputs": [
    {
     "name": "stdout",
     "output_type": "stream",
     "text": [
      "[2, 7]\n"
     ]
    }
   ],
   "source": [
    "num = 56\n",
    "prime_factors = [i for i in range(2, num + 1) if num % i == 0 and all(i % j != 0 for j in range(2, i))]\n",
    "print(prime_factors)\n"
   ]
  },
  {
   "cell_type": "markdown",
   "metadata": {},
   "source": [
    "23. Develop a program that extracts unique elements from a list and stores them in a new list using a list\n",
    "comprehension."
   ]
  },
  {
   "cell_type": "code",
   "execution_count": 23,
   "metadata": {},
   "outputs": [
    {
     "name": "stdout",
     "output_type": "stream",
     "text": [
      "[1, 2, 3, 4]\n"
     ]
    }
   ],
   "source": [
    "numbers = [1, 2, 3, 4, 2, 3]\n",
    "unique_elements = list({x for x in numbers})\n",
    "print(unique_elements)\n"
   ]
  },
  {
   "cell_type": "markdown",
   "metadata": {},
   "source": [
    "24. Create a program that generates a list of all palindromic numbers up to a specified limit using a list\n",
    "comprehension."
   ]
  },
  {
   "cell_type": "code",
   "execution_count": 24,
   "metadata": {},
   "outputs": [
    {
     "name": "stdout",
     "output_type": "stream",
     "text": [
      "[0, 1, 2, 3, 4, 5, 6, 7, 8, 9, 11, 22, 33, 44, 55, 66, 77, 88, 99]\n"
     ]
    }
   ],
   "source": [
    "limit = 100\n",
    "palindromes = [num for num in range(limit) if str(num) == str(num)[::-1]]\n",
    "print(palindromes)\n"
   ]
  },
  {
   "cell_type": "markdown",
   "metadata": {},
   "source": [
    "25. Write a program to flatten a nested list using list comprehension."
   ]
  },
  {
   "cell_type": "code",
   "execution_count": 25,
   "metadata": {},
   "outputs": [
    {
     "name": "stdout",
     "output_type": "stream",
     "text": [
      "[1, 2, 3, 4, 5, 6]\n"
     ]
    }
   ],
   "source": [
    "nested_list = [[1, 2], [3, 4], [5, 6]]\n",
    "flat_list = [item for sublist in nested_list for item in sublist]\n",
    "print(flat_list)\n"
   ]
  },
  {
   "cell_type": "markdown",
   "metadata": {},
   "source": [
    "26. Develop a program that computes the sum of even and odd numbers in a list separately using list\n",
    "comprehension."
   ]
  },
  {
   "cell_type": "code",
   "execution_count": 26,
   "metadata": {},
   "outputs": [
    {
     "name": "stdout",
     "output_type": "stream",
     "text": [
      "Even Sum: 12 Odd Sum: 9\n"
     ]
    }
   ],
   "source": [
    "numbers = [1, 2, 3, 4, 5, 6]\n",
    "sum_even = sum([num for num in numbers if num % 2 == 0])\n",
    "sum_odd = sum([num for num in numbers if num % 2 != 0])\n",
    "print(\"Even Sum:\", sum_even, \"Odd Sum:\", sum_odd)\n"
   ]
  },
  {
   "cell_type": "markdown",
   "metadata": {},
   "source": [
    "27. Create a program that generates a list of squares of odd numbers between 1 and 10 using list\n",
    "comprehension."
   ]
  },
  {
   "cell_type": "code",
   "execution_count": 27,
   "metadata": {},
   "outputs": [
    {
     "name": "stdout",
     "output_type": "stream",
     "text": [
      "[1, 9, 25, 49, 81]\n"
     ]
    }
   ],
   "source": [
    "squares_odd = [x**2 for x in range(1, 11) if x % 2 != 0]\n",
    "print(squares_odd)\n"
   ]
  },
  {
   "cell_type": "markdown",
   "metadata": {},
   "source": [
    "28. Write a program that combines two lists into a dictionary using list comprehension."
   ]
  },
  {
   "cell_type": "code",
   "execution_count": 28,
   "metadata": {},
   "outputs": [
    {
     "name": "stdout",
     "output_type": "stream",
     "text": [
      "{'a': 1, 'b': 2, 'c': 3}\n"
     ]
    }
   ],
   "source": [
    "keys = ['a', 'b', 'c']\n",
    "values = [1, 2, 3]\n",
    "combined_dict = {keys[i]: values[i] for i in range(len(keys))}\n",
    "print(combined_dict)\n"
   ]
  },
  {
   "cell_type": "markdown",
   "metadata": {},
   "source": [
    "29. Develop a program that extracts the vowels from a string and stores them in a list using list comprehension."
   ]
  },
  {
   "cell_type": "code",
   "execution_count": 29,
   "metadata": {},
   "outputs": [
    {
     "name": "stdout",
     "output_type": "stream",
     "text": [
      "['e', 'o', 'o']\n"
     ]
    }
   ],
   "source": [
    "string = \"Hello World\"\n",
    "vowels = [char for char in string if char in \"aeiouAEIOU\"]\n",
    "print(vowels)\n"
   ]
  },
  {
   "cell_type": "markdown",
   "metadata": {},
   "source": [
    "30. Create a program that removes all non-numeric characters from a list of strings using list comprehension."
   ]
  },
  {
   "cell_type": "code",
   "execution_count": 30,
   "metadata": {},
   "outputs": [
    {
     "name": "stdout",
     "output_type": "stream",
     "text": [
      "['', '123', '456', '']\n"
     ]
    }
   ],
   "source": [
    "strings = ['abc', '123', '456', 'def']\n",
    "numeric_strings = [''.join([char for char in string if char.isdigit()]) for string in strings]\n",
    "print(numeric_strings)\n"
   ]
  },
  {
   "cell_type": "markdown",
   "metadata": {},
   "source": [
    "**Challenge Level:**"
   ]
  },
  {
   "cell_type": "markdown",
   "metadata": {},
   "source": [
    "31. Write a program to generate a list of prime numbers using the Sieve of Eratosthenes algorithm and list\n",
    "comprehension."
   ]
  },
  {
   "cell_type": "code",
   "execution_count": 31,
   "metadata": {},
   "outputs": [
    {
     "name": "stdout",
     "output_type": "stream",
     "text": [
      "[2, 3, 5, 7, 11, 13, 17, 19, 23, 29, 31, 37, 41, 43, 47]\n"
     ]
    }
   ],
   "source": [
    "limit = 50\n",
    "sieve = [True] * (limit + 1)\n",
    "sieve[0] = sieve[1] = False\n",
    "for num in range(2, int(limit**0.5) + 1):\n",
    "    if sieve[num]:\n",
    "        sieve[num*num:limit+1:num] = [False] * len(range(num*num, limit+1, num))\n",
    "primes = [num for num, is_prime in enumerate(sieve) if is_prime]\n",
    "print(primes)\n"
   ]
  },
  {
   "cell_type": "markdown",
   "metadata": {},
   "source": [
    "32. Create a program that generates a list of all Pythagorean triplets up to a specified limit using list\n",
    "comprehension."
   ]
  },
  {
   "cell_type": "code",
   "execution_count": 32,
   "metadata": {},
   "outputs": [
    {
     "name": "stdout",
     "output_type": "stream",
     "text": [
      "[(3, 4, 5), (5, 12, 13), (6, 8, 10), (7, 24, 25), (8, 15, 17), (9, 12, 15), (10, 24, 26), (12, 16, 20), (15, 20, 25), (20, 21, 29)]\n"
     ]
    }
   ],
   "source": [
    "limit = 30\n",
    "triplets = [(a, b, c) for a in range(1, limit) for b in range(a, limit) for c in range(b, limit)\n",
    "            if a**2 + b**2 == c**2]\n",
    "print(triplets)\n"
   ]
  },
  {
   "cell_type": "markdown",
   "metadata": {},
   "source": [
    "33. Develop a program that generates a list of all possible combinations of two lists using list comprehension."
   ]
  },
  {
   "cell_type": "code",
   "execution_count": 33,
   "metadata": {},
   "outputs": [
    {
     "name": "stdout",
     "output_type": "stream",
     "text": [
      "[(1, 3), (1, 4), (2, 3), (2, 4)]\n"
     ]
    }
   ],
   "source": [
    "list1 = [1, 2]\n",
    "list2 = [3, 4]\n",
    "combinations = [(x, y) for x in list1 for y in list2]\n",
    "print(combinations)\n"
   ]
  },
  {
   "cell_type": "markdown",
   "metadata": {},
   "source": [
    "34. Write a program that calculates the mean, median, and mode of a list of numbers using list\n",
    "comprehension."
   ]
  },
  {
   "cell_type": "code",
   "execution_count": 34,
   "metadata": {},
   "outputs": [
    {
     "name": "stdout",
     "output_type": "stream",
     "text": [
      "Mean: 2.4, Median: 2, Mode: 2\n"
     ]
    }
   ],
   "source": [
    "from statistics import mean, median, mode\n",
    "numbers = [1, 2, 2, 3, 4]\n",
    "avg = mean(numbers)\n",
    "med = median(numbers)\n",
    "mod = mode(numbers)\n",
    "print(f\"Mean: {avg}, Median: {med}, Mode: {mod}\")\n"
   ]
  },
  {
   "cell_type": "markdown",
   "metadata": {},
   "source": [
    "35. Create a program that generates Pascal's triangle up to a specified number of rows using list\n",
    "comprehension."
   ]
  },
  {
   "cell_type": "code",
   "execution_count": 42,
   "metadata": {},
   "outputs": [
    {
     "name": "stdout",
     "output_type": "stream",
     "text": [
      "[1]\n",
      "[1, 1]\n",
      "[1, 2, 1]\n",
      "[1, 3, 3, 1]\n",
      "[1, 4, 6, 4, 1]\n"
     ]
    }
   ],
   "source": [
    "def generate_pascal_triangle(num_rows):\n",
    "  \"\"\"Generates Pascal's triangle up to the specified number of rows.\n",
    "\n",
    "  Args:\n",
    "    num_rows: The number of rows to generate.\n",
    "\n",
    "  Returns:\n",
    "    A list of lists representing the Pascal's triangle.\n",
    "  \"\"\"\n",
    "\n",
    "  triangle = [[1]]\n",
    "  for i in range(1, num_rows):\n",
    "    row = [1]\n",
    "    for j in range(1, i):\n",
    "      row.append(triangle[i - 1][j - 1] + triangle[i - 1][j])\n",
    "    row.append(1)\n",
    "    triangle.append(row)\n",
    "  return triangle\n",
    "\n",
    "# Example usage:\n",
    "num_rows = 5\n",
    "pascal_triangle = generate_pascal_triangle(num_rows)\n",
    "for row in pascal_triangle:\n",
    "  print(row)"
   ]
  },
  {
   "cell_type": "markdown",
   "metadata": {},
   "source": [
    "36. Develop a program that calculates the sum of the digits of a factorial of numbers from 1 to 5 using list\n",
    "comprehension."
   ]
  },
  {
   "cell_type": "code",
   "execution_count": 36,
   "metadata": {},
   "outputs": [
    {
     "name": "stdout",
     "output_type": "stream",
     "text": [
      "[1, 2, 6, 6, 3]\n"
     ]
    }
   ],
   "source": [
    "from math import factorial\n",
    "sum_digits = [sum(int(digit) for digit in str(factorial(i))) for i in range(1, 6)]\n",
    "print(sum_digits)\n"
   ]
  },
  {
   "cell_type": "markdown",
   "metadata": {},
   "source": [
    "37. Write a program that finds the longest word in a sentence using list comprehension."
   ]
  },
  {
   "cell_type": "code",
   "execution_count": 37,
   "metadata": {},
   "outputs": [
    {
     "name": "stdout",
     "output_type": "stream",
     "text": [
      "jumped\n"
     ]
    }
   ],
   "source": [
    "sentence = \"The quick brown fox jumped over the lazy dog\"\n",
    "longest_word = max(sentence.split(), key=len)\n",
    "print(longest_word)\n"
   ]
  },
  {
   "cell_type": "markdown",
   "metadata": {},
   "source": [
    "38. Create a program that filters a list of strings to include only those with more than three vowels using list\n",
    "comprehension."
   ]
  },
  {
   "cell_type": "code",
   "execution_count": 38,
   "metadata": {},
   "outputs": [
    {
     "name": "stdout",
     "output_type": "stream",
     "text": [
      "[]\n"
     ]
    }
   ],
   "source": [
    "strings = [\"apple\", \"banana\", \"cherry\", \"date\"]\n",
    "filtered = [string for string in strings if sum(1 for char in string if char in \"aeiouAEIOU\") > 3]\n",
    "print(filtered)\n"
   ]
  },
  {
   "cell_type": "markdown",
   "metadata": {},
   "source": [
    "39. Develop a program that calculates the sum of the digits of numbers from 1 to 1000 using list\n",
    "comprehension."
   ]
  },
  {
   "cell_type": "code",
   "execution_count": 39,
   "metadata": {},
   "outputs": [
    {
     "name": "stdout",
     "output_type": "stream",
     "text": [
      "13501\n"
     ]
    }
   ],
   "source": [
    "digit_sum = sum(sum(int(digit) for digit in str(num)) for num in range(1, 1001))\n",
    "print(digit_sum)\n"
   ]
  },
  {
   "cell_type": "markdown",
   "metadata": {},
   "source": [
    "40. Write a program that generates a list of prime palindromic numbers using list comprehension."
   ]
  },
  {
   "cell_type": "code",
   "execution_count": 40,
   "metadata": {},
   "outputs": [
    {
     "name": "stdout",
     "output_type": "stream",
     "text": [
      "[2, 3, 5, 7, 11]\n"
     ]
    }
   ],
   "source": [
    "limit = 100\n",
    "primes = [num for num in range(2, limit) if all(num % i != 0 for i in range(2, int(num ** 0.5) + 1))]\n",
    "palindromes = [num for num in primes if str(num) == str(num)[::-1]]\n",
    "print(palindromes)\n"
   ]
  },
  {
   "cell_type": "code",
   "execution_count": null,
   "metadata": {},
   "outputs": [],
   "source": []
  }
 ],
 "metadata": {
  "kernelspec": {
   "display_name": "Python 3",
   "language": "python",
   "name": "python3"
  },
  "language_info": {
   "codemirror_mode": {
    "name": "ipython",
    "version": 3
   },
   "file_extension": ".py",
   "mimetype": "text/x-python",
   "name": "python",
   "nbconvert_exporter": "python",
   "pygments_lexer": "ipython3",
   "version": "3.10.4"
  }
 },
 "nbformat": 4,
 "nbformat_minor": 2
}
